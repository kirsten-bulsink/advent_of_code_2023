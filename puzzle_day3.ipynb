{
 "cells": [
  {
   "cell_type": "code",
   "execution_count": 2,
   "metadata": {},
   "outputs": [
    {
     "name": "stdout",
     "output_type": "stream",
     "text": [
      "['.242......276....234............682.......................958..695..742................714......574..............833.........159....297.686.', '.............*............................612*......304..*..........*.......@175...#...*...........*890...........*.............*..*........', '..........346......................997........923......*..253..........698........122.746.....-832..........766.432..229.....674....415.....']\n"
     ]
    }
   ],
   "source": [
    "# read the file\n",
    "file = open(\"puzzle_input/puzzle_3.txt\")\n",
    "input = file.read().splitlines()\n",
    "print(input[0:3])"
   ]
  },
  {
   "cell_type": "code",
   "execution_count": 3,
   "metadata": {},
   "outputs": [
    {
     "name": "stdout",
     "output_type": "stream",
     "text": [
      "['*', '*', '*', '+', '$', '*', '*', '/', '*']\n"
     ]
    }
   ],
   "source": [
    "# check regex to extract symbols\n",
    "import re\n",
    "line = input[8]\n",
    "symbols = re.findall(r'[^a-zA-Z0-9.]', line)\n",
    "print(symbols)"
   ]
  },
  {
   "cell_type": "code",
   "execution_count": 4,
   "metadata": {},
   "outputs": [
    {
     "data": {
      "text/plain": [
       "[(1, 13, '*'), (1, 45, '*'), (1, 57, '*')]"
      ]
     },
     "execution_count": 4,
     "metadata": {},
     "output_type": "execute_result"
    }
   ],
   "source": [
    "# create grid for symbols\n",
    "grid_symbol = []\n",
    "for (row_index, row_value) in enumerate(input):\n",
    "    # finditer returns span of all matches\n",
    "    for match in re.finditer(r'[^a-zA-Z0-9.]', row_value): \n",
    "        # row index, column (start) index, and value (the symbol)\n",
    "        match_info = (row_index, match.start(), match.group())\n",
    "        grid_symbol.append(match_info)\n",
    "\n",
    "grid_symbol[0:3]\n"
   ]
  },
  {
   "cell_type": "code",
   "execution_count": 5,
   "metadata": {},
   "outputs": [
    {
     "data": {
      "text/plain": [
       "[(0, 1, 3, '242'), (0, 10, 12, '276'), (0, 17, 19, '234')]"
      ]
     },
     "execution_count": 5,
     "metadata": {},
     "output_type": "execute_result"
    }
   ],
   "source": [
    "# create grid for numbers\n",
    "grid_numbers = []\n",
    "for (row_index, row) in enumerate(input):\n",
    "    # finditer returns span of all matches\n",
    "    for match in re.finditer(r'(\\d+)', row): \n",
    "        # count, row index, column start index, column end index, and the number itself\n",
    "        match_info = (row_index, match.start(), match.end()-1, match.group())\n",
    "        grid_numbers.append(match_info)\n",
    "\n",
    "grid_numbers[0:3]"
   ]
  },
  {
   "cell_type": "code",
   "execution_count": 6,
   "metadata": {},
   "outputs": [
    {
     "data": {
      "text/plain": [
       "[(0, 12), (0, 13), (0, 14)]"
      ]
     },
     "execution_count": 6,
     "metadata": {},
     "output_type": "execute_result"
    }
   ],
   "source": [
    "# find the adjacent fields to all symbols\n",
    "symbol_adjacent_fields = []\n",
    "for (x,y,z) in grid_symbol:\n",
    "    a = [(x-1, y-1), (x-1, y), (x-1, y+1), (x, y-1), (x, y+1), (x+1, y-1), (x+1, y), (x+1, y+1)]\n",
    "    symbol_adjacent_fields = symbol_adjacent_fields + a\n",
    "\n",
    "symbol_adjacent_fields[0:3]"
   ]
  },
  {
   "cell_type": "code",
   "execution_count": 7,
   "metadata": {},
   "outputs": [
    {
     "data": {
      "text/plain": [
       "['276', '958', '742']"
      ]
     },
     "execution_count": 7,
     "metadata": {},
     "output_type": "execute_result"
    }
   ],
   "source": [
    "# test if number is in the symbol_adjacent_fields\n",
    "part_numbers = []\n",
    "for (w,x,y,z) in grid_numbers:\n",
    "    test = ((w,x) in symbol_adjacent_fields) | ((w,y) in symbol_adjacent_fields)\n",
    "    # extract the numbers (value) from grid_numbers\n",
    "    if test:\n",
    "        part_numbers.append(z)\n",
    "\n",
    "part_numbers[0:3]"
   ]
  },
  {
   "cell_type": "code",
   "execution_count": 67,
   "metadata": {},
   "outputs": [
    {
     "data": {
      "text/plain": [
       "544664"
      ]
     },
     "execution_count": 67,
     "metadata": {},
     "output_type": "execute_result"
    }
   ],
   "source": [
    "# sum of part_numbers\n",
    "sum([int(j) for j in part_numbers])"
   ]
  },
  {
   "cell_type": "markdown",
   "metadata": {},
   "source": [
    "# Puzzle 2"
   ]
  },
  {
   "cell_type": "code",
   "execution_count": 8,
   "metadata": {},
   "outputs": [
    {
     "data": {
      "text/plain": [
       "[(1, 13), (1, 45), (1, 57)]"
      ]
     },
     "execution_count": 8,
     "metadata": {},
     "output_type": "execute_result"
    }
   ],
   "source": [
    "# first filter grid_symbol to only include star symbols\n",
    "grid_star = []\n",
    "for (x,y,z) in grid_symbol:\n",
    "    if z == \"*\":\n",
    "        grid_star.append((x,y))\n",
    "\n",
    "grid_star[0:3]"
   ]
  },
  {
   "cell_type": "code",
   "execution_count": 9,
   "metadata": {},
   "outputs": [
    {
     "data": {
      "text/plain": [
       "[[(0, 12), (0, 13), (0, 14), (1, 12), (1, 14), (2, 12), (2, 13), (2, 14)],\n",
       " [(0, 44), (0, 45), (0, 46), (1, 44), (1, 46), (2, 44), (2, 45), (2, 46)],\n",
       " [(0, 56), (0, 57), (0, 58), (1, 56), (1, 58), (2, 56), (2, 57), (2, 58)]]"
      ]
     },
     "execution_count": 9,
     "metadata": {},
     "output_type": "execute_result"
    }
   ],
   "source": [
    "# determine adjacent fields again\n",
    "star_adjacent_fields = []\n",
    "for (x,y) in grid_star:\n",
    "    a = [(x-1, y-1), (x-1, y), (x-1, y+1), (x, y-1), (x, y+1), (x+1, y-1), (x+1, y), (x+1, y+1)]\n",
    "    star_adjacent_fields.append(a)\n",
    "\n",
    "star_adjacent_fields[0:3]"
   ]
  },
  {
   "cell_type": "code",
   "execution_count": 10,
   "metadata": {},
   "outputs": [
    {
     "data": {
      "text/plain": [
       "[['276', '346'], ['612', '923'], ['958', '253']]"
      ]
     },
     "execution_count": 10,
     "metadata": {},
     "output_type": "execute_result"
    }
   ],
   "source": [
    "# determine matches with a number per star\n",
    "matches_per_star = []\n",
    "for star in star_adjacent_fields:\n",
    "    matches = []\n",
    "    for field in star:\n",
    "        for w,x,y,z in grid_numbers:\n",
    "            test = (field == (w,x)) | (field == (w,y))\n",
    "            if test:\n",
    "                matches.append(z)\n",
    "    matches_per_star.append(matches)\n",
    "\n",
    "matches_per_star[0:3]"
   ]
  },
  {
   "cell_type": "code",
   "execution_count": 11,
   "metadata": {},
   "outputs": [
    {
     "data": {
      "text/plain": [
       "[{'276', '346'}, {'612', '923'}, {'253', '958'}]"
      ]
     },
     "execution_count": 11,
     "metadata": {},
     "output_type": "execute_result"
    }
   ],
   "source": [
    "star_set = [set(matches) for matches in matches_per_star]\n",
    "gears = [gear for gear in star_set if len(gear) == 2] \n",
    "gears[0:3]"
   ]
  },
  {
   "cell_type": "code",
   "execution_count": 74,
   "metadata": {},
   "outputs": [
    {
     "data": {
      "text/plain": [
       "84495585"
      ]
     },
     "execution_count": 74,
     "metadata": {},
     "output_type": "execute_result"
    }
   ],
   "source": [
    "gear_ratio = []\n",
    "for x,y in gears:\n",
    "    mult = int(x) * int(y)\n",
    "    gear_ratio.append(mult)\n",
    "sum(gear_ratio)"
   ]
  }
 ],
 "metadata": {
  "kernelspec": {
   "display_name": "Python 3",
   "language": "python",
   "name": "python3"
  },
  "language_info": {
   "codemirror_mode": {
    "name": "ipython",
    "version": 3
   },
   "file_extension": ".py",
   "mimetype": "text/x-python",
   "name": "python",
   "nbconvert_exporter": "python",
   "pygments_lexer": "ipython3",
   "version": "3.11.5"
  }
 },
 "nbformat": 4,
 "nbformat_minor": 2
}
