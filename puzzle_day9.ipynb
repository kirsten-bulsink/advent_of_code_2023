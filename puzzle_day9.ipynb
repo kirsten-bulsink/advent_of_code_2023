{
 "cells": [
  {
   "cell_type": "code",
   "execution_count": null,
   "metadata": {},
   "outputs": [],
   "source": [
    "# read the file\n",
    "file = open(\"puzzle_input/puzzle_9.txt\")\n",
    "input = file.read().split(\"\\n\")\n",
    "print(input[0:3])"
   ]
  },
  {
   "cell_type": "code",
   "execution_count": null,
   "metadata": {},
   "outputs": [],
   "source": [
    "# make input list of lists with integers as elements\n",
    "hist_list = []\n",
    "for line in input:\n",
    "    split = line.split(\" \")\n",
    "    ints = [int(el) for el in split]\n",
    "    hist_list.append(ints)\n",
    "hist_list[0:3]"
   ]
  },
  {
   "cell_type": "code",
   "execution_count": null,
   "metadata": {},
   "outputs": [],
   "source": [
    "# extract last element of starting line and all dif_sequences and sum together\n",
    "last_elements_tot = []\n",
    "for line in hist_list:\n",
    "    dif_seq_tot = []\n",
    "    test = False\n",
    "    last_elements = [line[-1]]\n",
    "    while(not(test)):\n",
    "        dif_seq = []\n",
    "        idx = 0\n",
    "        for i in range(1, len(line)):\n",
    "            dif = (line[idx+1] - line[idx])\n",
    "            dif_seq.append(dif)\n",
    "            idx += 1\n",
    "        dif_seq_tot.append(dif_seq)\n",
    "        print(dif_seq_tot)\n",
    "        # extract last element of dif_seq\n",
    "        last = dif_seq[-1]\n",
    "        last_elements.append(last)\n",
    "        # test if seq is zeroes\n",
    "        test = all(dif == 0 for dif in dif_seq)\n",
    "        print(test)\n",
    "        if not(test):\n",
    "            line = dif_seq\n",
    "\n",
    "    print(last_elements)\n",
    "    sum_last = sum(last_elements)\n",
    "    last_elements_tot.append(sum_last)\n",
    "\n",
    "last_elements_tot[0:3]"
   ]
  },
  {
   "cell_type": "code",
   "execution_count": null,
   "metadata": {},
   "outputs": [],
   "source": [
    "sum(last_elements_tot)"
   ]
  },
  {
   "cell_type": "markdown",
   "metadata": {},
   "source": [
    "# Puzzle 2"
   ]
  },
  {
   "cell_type": "code",
   "execution_count": null,
   "metadata": {},
   "outputs": [],
   "source": [
    "first_min_difs_tot = []\n",
    "for line in hist_list:\n",
    "    dif_seq_tot = []\n",
    "    test = False\n",
    "    first_element = line[0]\n",
    "    loopcount = 1\n",
    "    while(not(test)):\n",
    "        dif_seq = []\n",
    "        idx = 0\n",
    "        print(f\"amount of loops: {loopcount}\")\n",
    "        for i in range(1, len(line)):\n",
    "            dif = (line[idx+1] - line[idx])\n",
    "            dif_seq.append(dif)\n",
    "            idx += 1\n",
    "        dif_seq_tot.append(dif_seq)\n",
    "        print(dif_seq_tot)\n",
    "        # extract first element of dif_seq\n",
    "        first = dif_seq[0]\n",
    "        if (loopcount % 2) == 0:\n",
    "            first_min_difs = first_element + first\n",
    "            print(f\" first element {first_element} plus {first} is {first_min_difs}\")\n",
    "        else:\n",
    "            first_min_difs = first_element - first\n",
    "            print(f\" first element {first_element} min {first} is {first_min_difs}\")\n",
    "        # test if seq is zeroes\n",
    "        test = all(dif == 0 for dif in dif_seq)\n",
    "        print(f\"seq of zeros {test}\")\n",
    "        if not(test):\n",
    "            line = dif_seq\n",
    "            first_element = first_min_difs\n",
    "            loopcount += 1\n",
    "\n",
    "    first_min_difs_tot.append(first_min_difs)\n",
    "\n",
    "first_min_difs_tot[0:3]"
   ]
  },
  {
   "cell_type": "code",
   "execution_count": null,
   "metadata": {},
   "outputs": [],
   "source": [
    "sum(first_min_difs_tot)"
   ]
  }
 ],
 "metadata": {
  "kernelspec": {
   "display_name": "Python 3",
   "language": "python",
   "name": "python3"
  },
  "language_info": {
   "codemirror_mode": {
    "name": "ipython",
    "version": 3
   },
   "file_extension": ".py",
   "mimetype": "text/x-python",
   "name": "python",
   "nbconvert_exporter": "python",
   "pygments_lexer": "ipython3",
   "version": "3.11.5"
  }
 },
 "nbformat": 4,
 "nbformat_minor": 2
}
