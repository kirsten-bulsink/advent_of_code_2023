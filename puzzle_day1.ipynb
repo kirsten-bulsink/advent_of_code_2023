{
 "cells": [
  {
   "cell_type": "markdown",
   "metadata": {},
   "source": [
    "# Puzzles day 1"
   ]
  },
  {
   "cell_type": "code",
   "execution_count": 1,
   "metadata": {},
   "outputs": [
    {
     "name": "stdout",
     "output_type": "stream",
     "text": [
      "['2qlljdqcbeight\\n', 'eight47srvbfive\\n', 'slconeightfoureight557m38\\n', 'xvqeightwosixnine61eightsn2tdczfhx\\n', 'msixonexch1twokjbdlhchqk1\\n', '112ninejlhhjmjzkzgdsix\\n', '6six7jr\\n', '878eightgvsqvzfthree\\n', '2jxzhlkhdktxfjjleightdfpgfxjv\\n', 'mxbzgzg5three\\n', '33fivehcxcxhsqhtwo\\n', 'bhfive4ths1811seven\\n', 'eightfxkpsqjlpjgjcp12twoxkhllqzq7\\n', 'sixkvvhvgtcnjhjtmxnr7seven8\\n', 'csdeightwobtsxflml4eightbxbzmvhq2four\\n', 'twoplpbhq3mkkhb2\\n', '1sevenrsgrl76rqtsqqzkncrgznine\\n', '6twolnlq\\n', 'nine567\\n', 'qjvhrrtdqgsp8pxrlslvtwothree9three3\\n', 'ninekxpninedjx7phcncpzq\\n', 'onegmzclftbt8sixmkfnqpeight\\n', 'one53foureightzpvseven9\\n', '315foursixonefcvttgrknrgf1\\n', 'ldjx34four\\n', 'fournr8ltltldqsmcd5threetwothree\\n', 'seven6mffiverqgsxdxjgg6\\n', 'xzsix9vnrgczsrhcnine\\n', '2sevensevenone4eight3\\n', '48jlqz\\n', '1sevenmpbvtgfivefive\\n', '8six1\\n', '4plvb\\n', 'mxf2ninemkrvpseven4ms\\n', '3twojhgqlfx64two3five\\n', '8six7two\\n', 'msnsone25\\n', '3dpvknhqnkpvsgrpfpfpfive2hv\\n', '4sevenrnrlndhlmmone\\n', 'blzrjrgq2cmrcr2sthree5ghvlrrlxngrk\\n', '726rspnj1six6\\n', 'kmlxhrff98\\n', 'hnpcczfdc6hr2tworvqqkkzqld\\n', '53oneeighttwofourthree\\n', 'mnbrf3fourfpbrdgltf2xbmbmrbjltdxbklsixoneightq\\n', 'rzlj22gppksvxtkmd\\n', '1jdxsbn\\n', 'tg8\\n', '79mfzzhctvqgk\\n', 'fivethreezj45d752\\n', 'hsbdxl4\\n', 'fournffclthree9fourseventhree\\n', 'rnlccx4\\n', 'gtm8kqfourfsix\\n', '2sevenfivesevenvqshqjdvhz\\n', 'zljs5twofour2three71three\\n', '61lppssjcmhchkdhbnlqznrbxkprkhrjlvgmk\\n', 'xxnxtff9eightzzhpfgscgxrbkdgdvfivejgn\\n', 'five2twonine745four\\n', 'nqjbtrc5\\n', 'one8xgcshpjfknb57\\n', 'sixninevtmvnxmq1fivexsjltpxgseven\\n', 'ssfzbthree8twoneqqn\\n', '2235nine\\n', 'eightsixone4gf7fourckdfdvcxn\\n', 'seven9zmpb\\n', 'cpfthree87onellxlgjjhgshr\\n', '64threevpmszkxs\\n', '7rmxlsdqnvvmkzvjr4jjmgjrfivesixfour\\n', '4tfgdr5two1mtjbmthld5\\n', '741two\\n', 'qtfive3one\\n', 'kctwo4ptmgnbr8bpjrckscfour\\n', '6four6sevensixfivetpfmjvvfdt\\n', '1fivethree4two5threetmm\\n', 'ptpxxkxq72sevengbn9six2\\n', 'vcfhscnfplfive7seven5qnsdcgdmqzninekmhthklf\\n', 'nine9znfmxkfnrqdgjh6kmninethree8\\n', '4eight3\\n', 'eighttwo6threefourpqzbqfourtwonxksmbqt\\n', '638fourseven21btmxnq3\\n', 'mnljhhgmcqnz4four\\n', 'vhhgjdjkcqseven59\\n', '29cq4tvl8\\n', 'threeonethreefive85eighteighteightwolb\\n', 'kdhpb381four\\n', '4one8twoxmvzfjzbqoneightcx\\n', 'ptkmzzzzfcnjfctlkpdtwotwo4\\n', 'gdkzeightjbmgffzqrseight862mstxshpg\\n', '53hzzqone\\n', 'slpvjsbvjkv3\\n', '6eightnine2\\n', 'qcrq5one23\\n', '3hlzkglq\\n', '18pjqmlfkgsqstmnine\\n', '6twotwofqblrone\\n', 'qkhdk45\\n', 'sixdqkgpzrppg6dk5lgsqtwo\\n', '6four9fourpppplfcxxsevenfsqvr\\n', 'hmfq83four6eightfccnjqxxh\\n', 'jeight5twothreesevenqgcctwo5\\n', '39gzc75one2ncm\\n', '3zrqbgqf5hs5five2\\n', 'seventwo4fzbbdndzcvdgxbchthreerchfvcbndncsv\\n', '1813n7rqnzbhqmkqonemqkjcmfz\\n', '5eightsevenlxxshdkh\\n', 'pcb7twoninesix6five\\n', 'eightfourjzdmcmrmjtqfdkhlmfcmnnsevenjtzch2\\n', 'threeeightsixdjzrssevengnine8\\n', 'zsknqnvqsx6cfqdfivezkmmgrtc\\n', '4lhkblmrpgonethree8six48five\\n', 's7gnfcfour7sspnfoureight\\n', 'sixtwotwosjbskxfbjnkt3three57\\n', 'ninekhhx9gp\\n', 'xksttksixone9one9\\n', 'eightsevenqdkqrkcsh8gtseven\\n', 'eight45\\n', 'qqtrfqlcdqfivevcgnzjvbl1threesngjgljkq4ctbzlsdfspc\\n', 'onefoureight51rrxlffourthreekbfjmkzzvn\\n', 'fivexndcxfivesixthree6gdsvsxmhq\\n', 'sprbznpqhjqvh749four\\n', 'hcbsdlnckk6lmhmngdrfmsbtddtxmeight\\n', 'frfxfivesvprl5eightthreefourjbxtkrg\\n', 'seven8two\\n', 'tvndjhqx7foureightxkc3f\\n', 'rfbeightwortqzmsixxcrjponerznbhx3113\\n', 'jmrdxonelvlpz9three2qrklvhrbdfnpqqdhnmjlsv\\n', '2qpbcdsqtdvxmq4gqxkdptbvc\\n', '54656gl3\\n', 'gnmkdm7sevenseven3four7fhrhppmtkpzvtlfqoneighth\\n', 'mvggxccshsix8one\\n', '211\\n', 'sixseven299\\n', 'pdjeight3sixqjndl\\n', '4nvjkpqbv8seventwosevenfxhrm\\n', '9rrkjff44fivethreervt\\n', '1qqvbsfghdbttrxbpvjjbsnsevenfivetthree\\n', 'fhhksevenfour215\\n', '66vqnbtonefour2qpd\\n', 'spone1ninendxnqxfqvh\\n', '96hfphsnpmbx6rv\\n', 'ninesevensixsix5g\\n', '7jttgkv\\n', '3gfsnineqbbfsrgpgtcjone\\n', 'qtwoneeight7oneone1four\\n', '837threepzkxqfgdrml\\n', 'fivejmhlvn1sevencrccgdhqzkbjt1\\n', 'nine9seven5897threehmccnbldr\\n', 'four24four62hrkhpf\\n', '9drdtfcvcxll28tkrjmtwo\\n', 'six9kkkrhtwo\\n', '1six7eightfivenine\\n', 'ninefive78twonesz\\n', 'eight95\\n', '6fivefour1fivekvhqfxrc\\n', '16threefourfivesix\\n', '7zskvk9vv47pr7bpzz\\n', 'pmptwo8sixqsqninensxqlrp\\n', 'onehkfs9twochdn\\n', '6five8fivefivefive89\\n', 'sixonefourrpxrrvlxfour4ggcpnseight\\n', 'seveneightblltkljcthreeone2nine\\n', '7xmlglrghhcchqhmknzn27\\n', '4cphpdpdhxsthreetwoxgzzxvkthreethree\\n', '9kdgqtwo\\n', '5fourtmstdtone2five\\n', 'gtgzkxbngmsixsone2pzrhfqfour8four\\n', '3hltczsix9kvqldhoneqrtmtmghrc\\n', 'one5jdvgrlphbhone\\n', 'vbns2fourqnbvfrnpr\\n', '8eightvddvoneqs\\n', 'thngklbdfourpjxkhfivesevenkjbtnine3vsshx\\n', 'kmbgxvpmfivevngxcr16eight\\n', '9xvvcjzcrh\\n', '9vvgrr1\\n', 'three79kszslzdzlbjmd\\n', 'tcst4sixfour\\n', '293four\\n', 'seven9qhjpbneight29znbctmpcqxkp8\\n', 'oneninethree72bkjksztwogt\\n', 'five2sixn9kptcmqdtwo\\n', 'pkqeightwo1plzbdmzdvt9\\n', 'jxxqhcxlnkm4nvbgmj\\n', '1psqeightnine87589\\n', 'threefive5jfrptftvknzsevenqtzfpmkrj\\n', 'fivethree5\\n', 'sixfdjjjq93vtvcsdrvpc\\n', 'srvvrvbjccnine76hlfdqksheightworkk\\n', 'onefoursixfive3two9vvnbmqbrncpnztqcgjmf\\n', '3sevenqtfjxcbgeightzccnfl\\n', 'llnkpfsqk2\\n', 'brlgeight2xblbvdlonejzqtlj\\n', 'five9ktrljseven9pzfkqsrf6five\\n', 'onepmbltmkkfr2\\n', 'sppgk1threevzlxftfklbvkvdpsonebtbbjeightn\\n', 'threeseven9\\n', 'threenine1\\n', 'clpfmf3fourtwofiveeightkrn\\n', 'ninexhcdsbhqrrl52lmsfour\\n', 'zvthreeonetseven25four2\\n', 'eight2csevenncfzgkbdxb3hkrhjlsdlxmlfnv8\\n', '7xzlp\\n', '4twomsthree22324\\n', '9gzf3vfour4\\n', '7eightvdr\\n', '7sknmjmdppfkl9\\n', '5fnine7mjpdlrseven5xlghtk\\n', '1four6sevensixeight4lnvz\\n', 'three1fivefive39\\n', 'xkrxtzdhvf8kxscmqh\\n', '9ppk4\\n', '84threepmqzvgfhjnmbxkfgjlgnpncdf\\n', 'jlf7712\\n', 'qzvxgxv4gjqprxdsc26sixsixfsbfts\\n', '22ninehjq\\n', '5xn6\\n', '5pgzztrtgh\\n', '5kpdthjkfour\\n', '7six199fivefivelvmzsxq\\n', '5sixfour73fzmhsgxpbrqmbprhdq6gvpp\\n', '26two3\\n', 'fnoneightdxznmf46\\n', '2threethreemskfpdsgsixseven3\\n', 'd58fivecfdfivejgkknbcxfour\\n', '9qsmvtvk4gkdmlfz1\\n', 'pzdgjbcktk5bfctqphc\\n', 'fivemtwo382nqrbgqn8\\n', 'nine96bcpxxcdbnrfivekhcqnx7six\\n', 'six9eight2nine7rqjbvd\\n', '6xnkllrlphfivetwo73three\\n', '6twoninenineglgpvfheightfive\\n', 'fivelxhxjqkmlhrzkz6nzdrlrfthv\\n', 'vbkxjhxsf56five\\n', '7676one\\n', '22sixtsvzfsl1mqzsczrflnine7\\n', '6one1893dh\\n', 'jtlvfpxnv134\\n', '2cdnxjvzpzqhthreeninerggxgxctthnzrzrghqv7vlf\\n', '8grlzfplzdpthree59threefourrlhjcsbqmz\\n', 'lvxztxseven5pksrqcq82\\n', 'ninedgkm97v\\n', '9sixeight1hmqhzvzgnzgrrbmfm\\n', '2three5ninefqx\\n', '45svbccvbdfstzfqmfiveeight5k4\\n', 'ntwone9zctzkkpbdjthreetwovgf\\n', '8kpshzspdls8nineeighteightgqzgr\\n', 'fivetchvsrqk1twosevenftz9six5\\n', '72mhgqtnpksbcvfcfivehfnhfourthreesix\\n', '694tmgkbvhf9one\\n', '2vhctqvtmqlrpvxjfive55\\n', 'onefscmpn6sixoneighttt\\n', '6fbcpl13five\\n', 'jztwonesix42n9gfxnone34\\n', 'nineoneftmtwofour4eight\\n', '8ndt\\n', 'thfivedsevenxqlqxpffsv22two\\n', '5fiveknzd1eight\\n', 'fivefivesqggqcctfdhxdfzrtn9\\n', 'sevenninecmxhtjshqm29922nine\\n', '79lnvct6\\n', 'vtqrpdjqtbbzpjgv4eightkcpggmq37sdhbnsnkp2\\n', '7874three\\n', 'ml9tpngfshkx247\\n', 'four2vqzjeight9kvlmvkm\\n', 'one9pczrqb7jnxvssnqngdktbcjbhhsx\\n', '5plrkfiveseven4\\n', 'threespprdsklbszqxkkrcseven2\\n', 'one2ncjrsrq6fgmhxpvmvnine4\\n', 'hsevenmnjknphqkvseven2nineeight\\n', 'rsqt9six\\n', 'kvgljgskt1shjtthree\\n', 'ninejtbdntj75bmxndbqvbsixrcsxbcdkbsthree\\n', '8ninepzglkbrbl54fivefour6\\n', 'seven8five84sjchnqcjfzninehkqfxjvtrfive\\n', '8eightrfournine5\\n', 'vkmfbd8rzjtnvfour3jsmjpsjgxnpgqb7dzcmtdg\\n', 'fivedzbgnrseven2gsvhvtvffs\\n', 's2\\n', 'cvcjntbhcfivethree9oneightz\\n', '7eighttwofivethreekkrhqnrseven\\n', 'ninefivekxjp5\\n', '5twofive4onenine\\n', '8khbqlcsvhsevenkzp54seveneight\\n', 'sixone7nine\\n', 'one2gzxn88\\n', 'zjzsvdnmn77\\n', 'sjnzcsbbg66ctl1ninenine7nine\\n', 'three3htlrblqvfgbqzldhvvhzvshfour\\n', '12drgqcqtq5\\n', '5fourlpsixonedtzkpt95xxntdcrx\\n', '73ninefiveninemrcgl\\n', '7seven6fivetwo7six\\n', '28xtpfn1\\n', 'six7rt\\n', 'c8four\\n', 'bql2eightsevenfoursix2gjcncmjscdfive\\n', 'tqxgzjfg4fourbxgsrhpfzsevenhljrjbqgrskcgprmqzkpds8\\n', '4dsjds\\n', '7jskqgjtqzfhllzjbfnninenine9cgmhkllmdj\\n', 'mgmsbk85fiverzxtwold\\n', '5ncgnhqh6bmlvtg1smcb6xhkvh\\n', 'f23snine\\n', '3strppjqhdtmg9gljptpjxmx\\n', 'fourfcpjsfiveckmzgt482nine\\n', '3hrf1oneeight4dtxftngxvsixeightwokqc\\n', 'nine2dxdmlj\\n', 'fvqsltrpsixsixf2\\n', '711nine4741\\n', 'three67rthree9\\n', 'seven82nine8577\\n', 'two5four7foursixtwo19\\n', '5twothree7cmkj\\n', '32mkgcpnh\\n', 'twonine4kzrpbtcbh\\n', 'eight8fourmjlpmglh6\\n', '27eightpj7xkp\\n', 'dhgvjqqsqfourpvtnbcrxdznineggm2hmtrl86\\n', '2schnfh\\n', '64htzghlseven6\\n', '64eight7eightczzmmpjxhz\\n', '1rjgpkrr2sfzvjrsthree67\\n', '7onenine9eightfoursix5rzmh\\n', '3btzf5fivevzfqgmrdpvklsptlfp3\\n', 'ffiveeight9\\n', 'fourpdmxflnx7dxx1bzgmnht\\n', 'ncmj6seven\\n', '2npbfiveqlpfzdp\\n', 'onesevenngnfrv7\\n', 'clqgrbzm81four5mrrkbbmlhb\\n', '828\\n', '7q68one\\n', 'sevenvlsggsc7khvshfpql\\n', 'r1lxgpgx2six\\n', '9crtt5ll\\n', '25nine\\n', 'ftwonefiveonethreetqfbtppmpd5lzskxt4\\n', '2txtddtg782\\n', 'xxtfhkcgtwothreenine8sixseven\\n', '68ctd\\n', '3n3fivefour9ninefive7\\n', 'qdoneightseventwosixfivetwo8gfivenrfhvvz\\n', 'rnfcxlhdktjnxpthreethree8\\n', '8schm\\n', '3zhcfive2\\n', 'qptwonemnvb5\\n', 'onethreefxz9\\n', 'rrsbvsfour5\\n', '9nkxddqqlqzkdhbxc35krntjnpxrfour\\n', 'twop1nineonefourninefive\\n', 'pvgcsqxvrcrtsgtrsmrcsix2seven\\n', '237eightbszvlrjteight6\\n', '45eight\\n', 'mltnhsd88rdldqqmtmd2sixthree6\\n', '3zchm2mzsmdmdqjs7one1mmpnlg\\n', '51bbtpfdjlgznfive9\\n', 'onerkkczm17775seven\\n', 'four63one38fivergcgtqrleight\\n', '6ggpxmvc\\n', '12six43nrcdxtdsfive5\\n', 'knctwone363\\n', 'fiveeight3oneeighttwo5\\n', '31fourndmngleight927two\\n', '2km2oneonenine\\n', 'six7gknpdftxnq243\\n', 'pvllkgzmkzfive2rmzcnrxxbghd97seven\\n', 'ggpbvmlgrv3\\n', '1htjzxxhbrrtrmpnine\\n', 'sixvqctcfmlz5\\n', '6fouronesevenninezfltgfour5\\n', 'mcfrsgrbpsfourfiveeight8\\n', 'ktrlthgxzpb6five\\n', 'sevenfour8\\n', 'eightfjlfcr4nineqdnvndbknmzvjhnqfhqzd7\\n', '9threeclpdskczbl\\n', 'ghhst19\\n', 'seven9fivetfivefivefive\\n', 'eighteight5five\\n', '3eight1fivexmpstdtf\\n', '1six12\\n', '1eight4ninetwobxtkzsrlsq7\\n', '5bfour33fourzb5\\n', '9khcntftzhzthree\\n', '572nc99five\\n', '71khpfnine3tndvzmxlnkoneeightsvqc\\n', '8934chtvkqzxfive4\\n', 'ninetwo2one\\n', 'eighteight1six3lzkzmhvksxfm8flpjjxlckg\\n', 'fourtwo8rhbdcxcmjtoneqbcqvzvh\\n', 'onethreetwo28eight\\n', 'twothree23fourfourvjxmdhmthbvbone\\n', 'six57xgdnsevenhqs\\n', '4jjmjbtrfourfiveonesixddveightwoqm\\n', '2djdm5vgqxtsixsevenfknfzvrlkq\\n', '17twotqlkqkf17fntlcqdtbeight\\n', 'foursevenonennthxkdxx9sixhlxdcntwo\\n', 'qxrbhtn6kxr1cdnjktphbb\\n', 'jtk2vfsqsdhcpq9eightwojsc\\n', '6ppfntdkkj3six54rdthree\\n', 'six4dcchlqlvhhqqxvqxbqspttwo\\n', 'six38three74nnbmmjgx7smc\\n', 'dshfcone34jjhlhpsvgzpdr\\n', 'lbgzbsgxq8\\n', '4vxpbhjhvzjqbdzseven686\\n', '7tgjzkrltthreexbkcrzsixsix3six\\n', '7eightkrtqvzdp92six\\n', 'szkslvjxxhseven9two315xpxg\\n', '3dthreevkl7kf732\\n', 'mhqs42twoseventhree69seven\\n', 'mjcgnjphtk2six\\n', 'xsqdccbxldfs5onenine\\n', '1threetwovgslnseven3\\n', '27five6two\\n', 'fhgoneightfour8686\\n', 'six6eightfour71\\n', 'pvnqhcgdrtwo2hdfldftthree\\n', 'threeone2vdxnkfsix\\n', 'xhtwonenineseven6two4\\n', '82csvthreethree\\n', '1threemglzrkbvjzfivethree8\\n', 'qkfcfourninetwofzjqq4mhcvfnx\\n', 'zcvhlhhfcts13sevendjqvllmjqp\\n', 'djxc55two\\n', '3gzpkjqmtzlsevensevenfour3tqs\\n', 'sixggpj4five\\n', 'fiveeightngstjsdoneczkg5\\n', 'nine45ninegrhtnfvbtn5ffjmtscxjf\\n', '2zdrxtmcmr\\n', '4ninesix7five8cxvkktdsrpjjlhpbmprb\\n', '2twoseven\\n', 'six5hlmzlm1one2qfbljtjconefour\\n', 'qkqncxkpbqcqt6sixeightfiverpz\\n', '4fivesixnineeighteight7\\n', 'fivethreetwo7czqhsl69\\n', '2threepkbjrfivethreensqpzkchmbgfd9lcnfchf\\n', '2zsixseveneightxlcttbrldbfthjmpzc2\\n', 'gv4vzbrh45twosix\\n', 'lmznsixninesixjdvhkclxdcgfzqclrxpcrljskmn7\\n', '73tmvtwo9eight3\\n', '8five9one\\n', 'dkjx8nnpnfxgonethree91\\n', 'rcbeightfivechrchcfzh3eight2trc\\n', 'fivelnmf4threeoneqsdkmj\\n', '7fbl3fiveqgkqkhrr\\n', '2nbpg\\n', 'six64onekthrflnine\\n', '2kpcfl8ninethreeldmqnxzpg83five\\n', 'g484sevenrblzqhrphfsevengd\\n', 'sevenqrsevencsbcqdnqzv4\\n', '59sixkk\\n', 'sevenfhs3cvgjxzfft1kpqbxffhtwojst\\n', 'rtqqseven1four2threefivesnjn\\n', 'pzgcxqdpb9j\\n', '5fourfivethreeeightsix5threeeighteightwofs\\n', 'nine7dxhdbgnn774one4\\n', '8four94rmzjknkc91\\n', '35gzlsgqgf5\\n', 'seven5dvpnslnzcrxdznine\\n', '3zkbxqnpcrdkkmdkbfbv1one7\\n', '4gxlpbkjsc32htjxvzdfiveoneseven1\\n', '8vnlkmqkfmnpthree65zljcsevenhcddqgjbsj\\n', '1sevenseven6sixseven3dllmjljblc6\\n', 'sixfvsqtxslmone73eight1\\n', 'seven58bpbdmtwon\\n', 'khptmktwotlvvh8sljppmxtm15five\\n', 'qqtbmvbbdtkfmxkqhoneeight981\\n', 'fiveckxltrbstq7929\\n', 'foursixsix6mpzvlhcsix\\n', 'four2dprpl7tjplddnpt73zxxbdcnlpdb\\n', 'dh1ninefive\\n', '59hpfmhfour3qjfivenbhlkkjgp\\n', '6nhldbjxdfour4gtpfcgdsfm\\n', 'cqvfivekgsxfive9qsgxnv\\n', 'eight4eight7\\n', 'one9gtfndld\\n', '549two2ldssk8bvsrhgstppdvj\\n', 'sixone7bgxqvchcb3fivehjbclpg\\n', '6ktfxxvjhtl1\\n', 'fivethree5tlhnmbqtnl241\\n', 'one8gtrkrvhkqeightwot\\n', 'bxhsxn4ninejvlrcgngonefiveseven9\\n', 'zrqdzghqjbone5jcfsone\\n', 'zqsixzsmszksx112xshfkkrfzr\\n', 'twosfggctdjfour5gsvtninebjjxttrbhk5\\n', 'fourtwo4vblrmtqj5\\n', 'sevennine9seven1dkbcn58\\n', '8pbztltskcpl79hjgxsixztplzgc\\n', 'pnine6rhdgbhfsqnconeightsss\\n', 'five647\\n', '3xghrx1two9\\n', 'sevenfourfour1nineeight49xnb\\n', '6eightvnfsjzjk1fivemjnz\\n', 'rq9rbdt\\n', '5seven8gtrnmthj\\n', 'eightone5threefiveonetbcsevenjdbm\\n', 'twoonefive5eight\\n', '665one9ninecrgvnh71\\n', '3fivepscflhn8sixsfgq3\\n', '45sqcjonecxbzqfgdsix78seven\\n', '4fs\\n', 'mdnkmfkj4six474\\n', 'bqlhlmbg46sixthree9nine\\n', '47onetwobpxvnnzqzlj67\\n', 'seventwothreefive2bgfdvchvdg515\\n', 'mbveightwotwo5onethree1dmhfq35\\n', 'p5kglzfkdrc3xm2threefour1\\n', 'n57oneeighttwotwotftgxt\\n', '1sixz1rrpkmmbqbhdcmdsevennjlltklndztwo\\n', 'jl5eighttcpczp5\\n', 'm4four71\\n', 'fivezkfpjrdp121vqkbhsp\\n', 'mxtxcsevenfoursixszcgqtfsj5nine\\n', 'three8eight\\n', 'qzbgcpjj9\\n', 'vhkgcrxtxtwo14sixfour7hchprqtfseven\\n', 'onetwocxnq3fivejljbgv2\\n', 'fiveonegcslmmgtwofivetwozrfxzpjvxljgq1\\n', 'cnttseven3ninepskfours\\n', 'zsj4\\n', 's5mjgshg78\\n', 'fourtwoseven9threeeightgvkgdrhq\\n', 'five1qvj2six\\n', 'one4nlbddxrhnineth\\n', 'seven4rrfconemkkpkone373\\n', '999one7b1\\n', 'oneeight4tkt3\\n', '7eightk\\n', 'five6seven83\\n', 'nmtqmfl662phgfqfgvs3fourtwo\\n', '57qjprxmvllqgdf3lbh\\n', 'sixnjjg5ltvtrggbm\\n', 'fxfbhsbls17fzcctwoninetwo\\n', 'eightjbsfdh5threesevenfzgqpxfvkghzntfrplpg7oneighthh\\n', 'gbfivesevenonetwo4eight2\\n', 'eight5eightxggnbdfvnrr\\n', 'six6three6sixeightone\\n', 'zrjnv5threeninefour6fivefivefive\\n', 'two41two7hrpxrzhvcseventwo\\n', '4hzgjpfvknjseventwogt3\\n', 'htfrtmxthn6sevenddsmdnseven\\n', 'fivepqkvhnphdm8seven5fourf\\n', '395dntdk4five\\n', '7stqfkzlhmqg17one\\n', 'mzlheightbjqlknkhkphxkfhcrkk17\\n', '2fivepkdhkxplcteight\\n', '5six3two4\\n', '1ninetwo\\n', '9lzsbhhjssix89\\n', '2six9sixntncshzbkflh\\n', 'fourjdbq8nl1five\\n', '4fiveeightclrnzrpltwoeight42\\n', 'bcfshxxkr6kzppmc4nfpzpdrfmnthreezxkjppzthree\\n', 'kmpsixbvjpvdgkvgcqqtb9llfclrseven\\n', 'htkhpzxbcphprzzmqthree3six9\\n', '1cnpsix8r\\n', 'nslvshhkeighteighttwo3fourchvcpcfgkcseven\\n', 'foureightppdqhfdzlsix4vhtpztdeightseventbfmkk\\n', 'nines7nine4csfzfxlqtcxs7\\n', 'nine79bp\\n', 'khkeightcbqcdhthreeclfsc4fourfive1\\n', '9five93eightcjntlksdqtvneight\\n', 'four3jcfpckfourvkgxpxbkqv11jqfvlgmhx\\n', 'sixthree47twofivethreefive9\\n', '364eightsrlbbsrtptwofour\\n', 'bxskfour4nineeightqjj\\n', 'gqvsn574\\n', 'six99tjcqjvdvmtbp5onenine\\n', 'jpnone9\\n', 'hdtwosix189bjgpfjtwo\\n', '7seven3mbrrhnfg\\n', 'zsxfvhftszgjmbkxqp824\\n', 'twosixgbntjknzf9kvldgqv8lx\\n', 'rthgvmvfhzrqplxjbh5qjqbpzrm\\n', 'phrlkkl4\\n', 'twofrfmx2onerg64fqjsdxpqsixtwonetx\\n', '7eighttwoqrjf\\n', 'fivefive2rzlqjkhbm86\\n', 'mphzxmckxeight5zgzhkdpfhvmbdbpffive47\\n', 'sl8\\n', 'zggtwone82tnbvqqzpkm\\n', '7sevenxhmqzqk\\n', 'hzfzrrqc93eightfour1\\n', 'msztmvmgxeightninenmf97xxrdzhznkc5\\n', '8njmlqrsevenseven41bjdzxbeight\\n', '7eightonetwoxzktcgghghg\\n', 'xseightwo2jpmhnttoneztczkjbnqts\\n', 'onef73sevensevenmzrbvc\\n', '3hgxkfqtfourfournskgb1\\n', '5knjskch4skgbjsixone7\\n', 'hflrdfourpdhlrzlnq42dmqeight5one\\n', '7ninestwo\\n', '6dvtfl\\n', '9two497\\n', 'eightfnnmhs2\\n', 'jbmhszmfthreeone73dqcvjqrpbnp\\n', '98seven1eight\\n', 'cpqgprqcc32ninesix1eight\\n', 'fiveonebvrqmf9four5\\n', '943smzjdc\\n', '9nslnjlzcbqfj\\n', 'two6gxkqvghvdlgthree3\\n', 'nine77seven41tqf\\n', '6threeeightninefive1sevensevend\\n', 'rone4five1sevenonexxqpbsdjr\\n', 'sixclgfzfjqq3\\n', '2eightsevenfnoneqdssvjkt\\n', 'dhcgmvg1sevenvsqhbh\\n', 'gbtdppgldnd6fgkkdgxzgeightx\\n', 'fivefour5five3jmxmf5\\n', 'twoone4sbsmpdtqlone\\n', 'twotwo2seven7five9\\n', 'zsix2nine7qhmfiveone6\\n', 'zbtxdrrgqlzngnn5\\n', '64xgmvsvzdvnssixkzpdcnskfive\\n', 'pcshsdtrjk5kkdcjpmmeightkvcsm\\n', '5nvvnncsevenonexln4six\\n', 'eightseven5four3\\n', 'zk8oneszssdfjcxlcggcnvnzqmkt6\\n', 'fivefoursevenqplbeightx3\\n', 'jdtgszhf9\\n', '5seven2\\n', 'fxkplfive7five\\n', '4oner\\n', 'two53two\\n', 'v48\\n', '9foureightsevengmpthreebxth\\n', 'dccdkmjhdtzpmlhx3\\n', 'pdd5six1sixqgnjh94rpp\\n', 'nine94vbvrmnlsnine\\n', '5kxkkltwokmzfourhmqlhrs7sjltthree\\n', 'eightsvsix6nfqrcvfdx7\\n', '5vfsqkstfiveninefivesix9\\n', '4onervseventwo7\\n', '8mfsdgkppjjzdfrrqdcl7two6vtffour\\n', 'hjsg2rkk8seventhree\\n', 'hkbznnhhdtfourone1sixeight\\n', 'one3vnntbscbzseighttwonek\\n', 'fiveninenineszpkfmsevendfxfxg5\\n', 'qchrrrbzlsjzk8xvjxgkvvvqns3\\n', 'eightseven1\\n', '92dpjztwofourfourcrrtrpdx9\\n', '3three81gppshcns8c\\n', '9943nine8ninetppvpmz\\n', 'fourmbscxpslsbtqzzmdjbsr18six\\n', 'tdlbcgpq6766fiveeight\\n', '2nrnsc5eight\\n', 'seveneightgzhtfourhz5\\n', 'nm3ninezbbbxxpk\\n', '8sixnine6ninethree\\n', '13sfmkkct73pmncdxclnn\\n', 'vgsjpmstwob64six\\n', 'two7twoseven5xqxjbfqnbfivefive\\n', '1zxgnkgdkseven\\n', 'sevenljnineninefvvkxznt596dghfjzgdf\\n', '1threebngjvlnninefzlbvjj\\n', 'fourjndnhk2five9\\n', '8sixmhvjtvdkg\\n', '1pcgctlhkxggq6\\n', '8hfq\\n', 'eight66xndjgone8seven4\\n', 'nbmljkxzs5s1\\n', 'bnkssmdlninefivetksfbhns7vpqt\\n', '4hjnjqccmbmnine\\n', '3rclvqqfxhlqm\\n', 'gdtxcrjvrfourone8qpmxfivetvd6\\n', '8sevensix35jpdfourfdthree\\n', '1tdhsxbch\\n', '3759lg\\n', 'zsxmb7one2prxjxpsix\\n', 'cfjfxx4ppbqhjpvfsix\\n', 'nine67fzqrqcztwo1four34\\n', '1seven6khdn6oneseveneightwoxz\\n', 'kzgpsclvrn44sixvjqmhrsr\\n', '2zvqbtdxcxvgqdtrs\\n', 'bt81898nfpgxrpggsone\\n', 'gbveightwohqztxvbgngtwopdbdnfzbhbrjsixthree3\\n', 'threejlgmfljn15\\n', '3fourone132eightvhtdssxnzfcnt\\n', '4three9d9seven\\n', 'qbzj5kgglthxgv\\n', 'ljttvvpqdbd4seven\\n', '9threetwo\\n', 'blxpddqgeightfour4977jskbr\\n', '2fpvqbmnjlg\\n', '22tone\\n', 'xrstdqhlgnrmdntxttzt1\\n', 'four7ntjlbn\\n', '5mqhhtkldtwo\\n', 'zfstz49two\\n', 'gljszpg67\\n', 'xxddtfrseven2fiveninethreemlxghjzj\\n', 'mmeightwosevenzllrjkqjktgvj1gn6nmrsc9\\n', 'qsdmsql8twoxdzrhhc\\n', '1cdqxhsnkkmpk1b\\n', 'six9hfzfhs\\n', 'threegbsnineqsixsix9jdvfour\\n', 'two83fourpxnpgmnnjxdpsfgdd\\n', 'eight5kftxcsevenseven59rdfpqcx\\n', 'fourtwooneninesgkvbbsdq4kfvtk\\n', 'ttwonepsfspjsp3\\n', '3625eighteightthree4\\n', 'ninefourseven9eight4nsfmhsng\\n', '2bcfzninefivethreenine\\n', 'zvsixnine2eight4hgnvzgv\\n', '52threetwoeight3\\n', 'fivegvngchprmmj4tqnqvjh4three\\n', 'dmkmdtrseven2onefivenineone\\n', 'seven5hvtmkklsnineqgsxglsp6\\n', 'ddjfrfq3lgrxkfourptxftxfc\\n', 'mmtwo9five1gtrcc8\\n', '2jcqzlbthstzttllks2vlnkmpfour6\\n', 'jpjtzjf2\\n', 'fourgseven8\\n', 'seventhreexmtpr2\\n', '82twoseven6\\n', '6bkppqrcvfourfourvqlvctgcpl5rhqcxfour\\n', 'threesdcdbhjgcjhrtvseven8\\n', '664\\n', '7kxdkrdfour\\n', '3ktxgspnhrndzptfxzmrgkdp\\n', 'eight9dvsbxjtrzcjk\\n', 'nrrlxvddcvm361one\\n', '35\\n', '7tpmjdmqnzzpctjxl\\n', 'voneightonevpkonegzzslxdjjmzvvpc73\\n', 'twoone9fivefour\\n', '1ldpkzznonessixmck5\\n', 'nine4grkzsmcvlzlqzqdp2nffcklvhsn92\\n', '4two9rhvrfsxvc\\n', 'nineqlqxdvd9two6two9rthree\\n', 'spdeight799qgt\\n', '1sixtwogzeightz3five\\n', 'xcqrntvsz2frjqgnqxblnr\\n', 'ninerkbrgrzqeight65txshjcrsghfbprjtgdp\\n', 'fourbcgjqpjbp64four\\n', 'jpt51rmpbf\\n', '7twosix8twothree3pzzdzbls\\n', '686\\n', '51fivemhnkcbpnz1lghkgdtztbtqrd4\\n', '9jkn6xtq35ninelqrsksmb9\\n', '466zqxzlsqteightsix2eightwon\\n', '7517onetwothree\\n', '5mmsppmqnnxxjvfxxxlbtwo\\n', 'ninenine53gckztmtwonedb\\n', 'eight6tpjdzhqd9fourzsqdpqxtf94dc\\n', '35xvpbfour\\n', 'ljsfnzq5drgsbk2hlnrgsjcjn\\n', 'twoone59twofrskhscjc9nine\\n', '654pntx5eightxhkzltgdz7szfvhr\\n', 'seven15nine\\n', 'bqpfiven9trzmqqbsl2smrh5two\\n', 'eight85seven5\\n', 'pkdlsckpkbtznlngsrxqdz1mhfsthree8nine\\n', '96eight\\n', '5one1nqjdcjgs9jzzsgnxtk\\n', '8rgxkmmlz\\n', 'mjfmvvc6\\n', 'nine4seven613\\n', '4one9two\\n', 'five813\\n', 'six17xphchsevenpvrmbrlmsqbnbzpmdvm\\n', 'five717\\n', 'jrteightninefivefour7fppstftgcqjfs\\n', 'clcjgtzkgvhvn7vsix3\\n', 'mzcvrvtxtf62ninetwo1one3\\n', 'nineeight5five7\\n', 'btrxqfqnzgcdpbtqrd1\\n', 'jjjlfdjvgplnineflxpg3\\n', 'foursevenvjxcv4jqqcsngcrz\\n', 'cdvx9mbhcbjlnine17twosix\\n', 'gzfbzdglstwothreergrxvvlblh9czslhgxpninekone\\n', 'zbdxcsix5five\\n', '8bbdqzlfbsssix2\\n', '6twoone\\n', 'one6twotwogv7\\n', 'rfxzbsfive6mzlftvqqdj7\\n', '2eight2eightfivevmsixqllmhf\\n', '46two9\\n', '14jvrfqlskz333jbsix3\\n', '52fiveeight\\n', 'hqn1three\\n', 'ninenine4four\\n', 'seven2two3pthreehqhbbz8rsf\\n', 'fivefivextnpd7sevenkbjnnlsixninetnvjrllf\\n', 'nine2fivecxttgcsbqvjgxj\\n', 'twotwofjndhnfzscgxfjqxklmbtmhvdjtbrknfive1\\n', 'cqdhhscnone9eight4lvgbrnfgcbbfour\\n', 'srjqtfpvnjkbqdrm26srzrtk\\n', 'sevenonefourseven2\\n', '3tlhfd\\n', 'fourqsnlsfiveeight5gngdxvvbone2\\n', 'qslkxd6\\n', '6jxgvknvbbbmqbjkkbnineninenjnkxnbpvf\\n', 'tzxrgthree8sixtzszjscq\\n', 'dcjgzzrnlx237887xvnkbg\\n', 'mpqpxsix8dssfkt5sixqshsqpsbghqvvt\\n', 'qrjoneightqqpf8\\n', 'v1\\n', 'fivefourgpkqbmhzkdtmxnrrkjq1jrlj\\n', '4vdcdcsseightxdskczksldfour31dlgcpq\\n', 'four6six\\n', 'bzztktdmdnine2seven34\\n', 'sixone464\\n', 'zjbctfournineninenmgssix7\\n', 'fourddspxzcsixlfourphtfpcvcjxhmkbkfqszjqdkk8\\n', 'coneight3kxqnknpgfqmcbfhrmspv1\\n', '4cxrd5eightfivezbkkbvxmklzhbg\\n', '3gzhthqlvgklrsvzlrldxeight\\n', 'twoseven4eightpgzmdjmthreethree\\n', 'zrvdone9eightjfddpv5\\n', 'onenkrdbvsfdd8dxtfjrkvlldbltqthreectgseven\\n', 'xrrrtshfourxsznhllcnljggnf8\\n', '18fivethreethree\\n', 'twosevensix62bjjfqbgfour1\\n', 'sixhvmrjsxbtvpttnvsvkkdjbrkz8\\n', '63seventwofive6nj\\n', 'tworpmdqcdjfknine5zbbctfdxjfivepsbls\\n', '8onebcffzl\\n', 'six4eight\\n', '534zclfpftggfzj3\\n', '5threespcbkb\\n', 'qjvmhltqtvxkntwo3mmnqjtc1msmcrvdsixb\\n', 'lnlkdvhsgdslmlkdmzgfdtjmldxpp4\\n', 'fiveninetmktpq7frcksixsixjxfmgkpcx\\n', 'seven7xlqzjkmpr\\n', '1pdbjpbjldpxfgzjgch8\\n', '6two361vbtzntk\\n', 'sevenfourfivefivethreesq19five\\n', 'xhvmcfzqvmlplc6xgsxgzhjfsvhzr6sevenbzhchqqxvq\\n', 'ninehmc7mgcspncsm\\n', '84gtvlrxx23\\n', '2lllgqjlntgctxrpvhhmxgtzpg\\n', '6twosevenvpgngr7\\n', 'ppjmthreetrnbrzd6two5lqnmhj\\n', '1eightfourtwo93\\n', 'lg7nine8three18\\n', 'onecp3\\n', '8hnqgvgrfk8fivedgjqcmht9\\n', 'bcfmtxzgkjsfffntwoglcqj9\\n', 'bconeight5vqkndkxxpsevenfiverxvdf\\n', '826\\n', 'dgdfjnbq2\\n', '9hkrnrstvjonephgsh4\\n', 'sevenrmmnhhzqpxvpns7vbfjxsixtdvvzcd\\n', 'nine93pbhzvpzkxfourfive3\\n', '9bhplv5ljnzxzj4d6tzdzk\\n', 'ninenjq6six\\n', 'frthreefzzxkjv3fivesixeighteight\\n', '1zmbmqlgxtwoltfxfncckxkznine\\n', 'qfh2fiveq6sjvbtrc\\n', '2twojbzgbqp2\\n', '58fzjtzrmzrtnhsix7seven\\n', '76seven\\n', '1nine685rhlltpqmonetwolfqbnbz\\n', 'lhlnzjvptsix1one19fiveqvc\\n', 'mxlnjnkpcjcl9seven\\n', 'gseightwo6\\n', 'hmfour9zxscbsix\\n', '15hx\\n', 'lxrptwo6four23brqnsmpnv1six\\n', 'sevenj486\\n', '1kdt57four\\n', 'threefourqsjjfmqzgm7\\n', 'rlkfjspbb79eightlgsb78\\n', '273sixninelpbfnjkrlninethree\\n', '6xkrjrqthree8\\n', 'fourthreehtone11jmjt\\n', '1hpfqhtkglk\\n', 'nine15hjn3nbrteightwoxst\\n', '9jrphvqgqfour22one\\n', 'threerdrvrgkvr2\\n', '1bhqngdlfqpltwo7\\n', 'four8threegbkpthree\\n', 'fouronejeight2\\n', 'two1ks69367two\\n', 'brtm64ljnqpnnkxxpdneight\\n', 'nine6rcsixtwoninethreesix\\n', 'ninetpmbdnine8\\n', 'rhkrrrvslxz6seventhreethreenine7five\\n', '11vm51fvzgthjdcxb44\\n', '5crqfourkksdcbxhhgndmqkxrthree\\n', 'qmmnpdm67\\n', 'shrdmggszgxknp9msixkkppzbheight\\n', '6jllfcrhseven28lhfxbqone\\n', 'rblgzsfxhtdkfoursix38hl\\n', 'nine5rkjvchtnsrsevencrhvmfourgsix9\\n', 'fourmgz9\\n', 'four2rvftpfng\\n', 's5ctjmqhtfqbknrvhnb7\\n', 'fgdprp1sjkhdccmtbninethreeeight\\n', '7xj3vone\\n', 'hlh6rlpsscd\\n', '8nmrzdrjbcp9fdvsix7zmfzx5\\n', '2eight2jztrnx2vbkkbqxpdbgxqmhtnxbjs\\n', '1gxkrbnxvcpr6eightbtnptvzczp2\\n', 'kktm5seven82onehkkgsevenczfpgz\\n', 'skmkfthree538zzmjd19\\n', 'eight61onezsevenbone\\n', '28eightonesix7onenine\\n', 'hh61lfspfx4fvtxqshzchllphnkz5seven\\n', '9kfkz\\n', '8fiveseven33j6nine7\\n', '7xkvvtxvtmltpv\\n', 'xxjpndkcbbhkrqc4fivenine1\\n', '2tvpthree4onelbqkeightzdvvxseven\\n', 'sixsix7\\n', '5eightjmrxhghb79tworqfour\\n', 'snbgknvfctggnteightthreenine5\\n', 'two6nine\\n', 'rsc23sgztzmkvnqqnsevenfour2\\n', '9tcdqdcccjldfvxttvhtnbtzm\\n', '8sxthstcmonefive6one193\\n', 'fdppcjkrptxbmvvmlhthreevzsxqcrmzl8\\n', 'onedxjg8rvqdszg7\\n', '9vsvctbbm\\n', 'ffpxgrtwodbnpvfckbb8rjfmpngp7six\\n', '8ljxjseventwoeight66\\n', 'threelzhqgtzfljdjcddsix5nhtzbvrpdprxdtgcql\\n', 'gnkkcdbtcd4\\n', '5fiveslqchsix3\\n', '6zfxp\\n', '5758ffddzjxjr4nzgqllfive\\n', '386threebhfpxsvn2tncfcjbrlv\\n', 'vth77897ninesix\\n', 'six2hbbrlggsixbtzctqdmjsixphvtnxfphmmmkscg\\n', 'jszfbjvsthreefive8eight28hpfztclxczsgnksgchd\\n', 'vdlfxdfhgfourfivelzxlhmhng1krv1\\n', '1rfsfiveeightsevenseven\\n', 'dxzbfive7\\n', 'ctcgsevenqcrgscpqgvxglqfgckzbdn7hvzpg\\n', '5zcfrbsdgqbbzkgfrgtg4four6\\n', 'six5ninesevenfour\\n', 'gszmtz5pzxrgnzfxtvcnnhznhplg7fivetwo\\n', 'fivegdxbmxxgmkqxgfv9jtkcnfour1sevenr\\n', '2ninetwoxtmtf4gjbm7xdq\\n', '9hfshgqrvmheightsix96\\n', 'fqjrlq27pqqbxjqtwo\\n', 'threefour44dsjtdhm9chjx8vrsp\\n', 'fourthreeqz1nine\\n', '3ftjxdfxp\\n', 'sixsixone2oneone\\n', 'ninesix55\\n', 'five24seven\\n', '6ninejrvzccxxgq\\n', 'n46tsseight\\n', 'nineseven44three\\n', 'nsstnhvdkxnbsrpnxfknbjffpngz36twofiveseven\\n', '4sixxqrngkhxbktwocnnjqphcdceightsl\\n', 'knqmkjnrseventhree9eightjfjl6lmjfddg\\n', '42eightdvrlrzhsix4\\n', '1bzqrcmb1krmhtwo\\n', '845sixslqxh49\\n', 'four2jtndvcfhnmfourjmcjlxtjkzfour\\n', '65z\\n', 'twocxpqljhdmnjdnine62svmmfdhhrzdznf\\n', '827\\n', '52threebrhssdltmrthkvqfm6kgh\\n', 'fjqntgg8ninexxxdmxhgfivexnvxv\\n', 'three96\\n', '51rtc8threeeight\\n', 'mrqpvstpsjhb98nine\\n', 'nqzrgxhvjzqblvsbhtssrzkvmrppkqfnrvpsltseven74\\n', 'bhgnxlpfkrseven2onebjxxxqnkkd4\\n', 'onesevenzxxninefcghtwoqvrgmsthree7\\n', 'four5ffourzcmshx\\n', 'f6gqhvfp55cpb3six\\n', '7eighttlqzvggsksix1lbxdbrfivebfgznsck\\n', 'dtsgq2seven89four3five\\n', '4mcstshfive8eight92\\n', 'vfnlxhf99fivenkcqlrttwov\\n', '96vjxjvmzpqtwo\\n', '5kffpqfour2kfour6\\n', '5dsz2fjkvzkpgstfive7six6\\n', 'fourlmzvktshjpgqnhq3673nine\\n', '3svfczsvvnfour61\\n', 'k2jfhgf\\n', '7vmhmsv7three6three8phqbcm\\n', 'cfjktbxhsixeight9\\n', 'zqmseven3four6\\n', '2four4eightskhbeightvrone\\n', '51tcrbl6ninezvhckfxqphcd\\n', 'xnntnqstwoeight3twoonefour4nine\\n', 'sixfiveninefiveksxspqthree4\\n', 'sgtwo7\\n', '97tdzhqdxtqctksix\\n', '3fiveeightfour\\n', 'fivemsjhxqpgbt3eightk9\\n', 'four698ninef\\n', '3nkqmpmg7eight\\n', '7gksfive\\n', '41nine\\n', 'rflzmfs1\\n', 'nszxcthree8hsqqmhfive2\\n', 'jbhkgkgjtd4rpnzjrhqfournznljmhvjtnzsix\\n', 'six83\\n', '81btctxpmvmnine7\\n', 'qqqnnkq7five\\n', 'foureight6\\n', 'crjgvsjxcpgtx8one\\n', 'nvfive8hvdth6fgnfgh\\n', '8hl5eight\\n']\n"
     ]
    }
   ],
   "source": [
    "# read in the file\n",
    "file = open(\"puzzle_input/puzzle_1.txt\")\n",
    "input = file.readlines()\n",
    "print(input)"
   ]
  },
  {
   "cell_type": "markdown",
   "metadata": {},
   "source": [
    "# Puzzle 1"
   ]
  },
  {
   "cell_type": "code",
   "execution_count": 173,
   "metadata": {},
   "outputs": [
    {
     "name": "stdout",
     "output_type": "stream",
     "text": [
      "                                    input\n",
      "0                        2qlljdqcbeight\\n\n",
      "1                       eight47srvbfive\\n\n",
      "2             slconeightfoureight557m38\\n\n",
      "3    xvqeightwosixnine61eightsn2tdczfhx\\n\n",
      "4             msixonexch1twokjbdlhchqk1\\n\n",
      "..                                    ...\n",
      "995                        qqqnnkq7five\\n\n",
      "996                          foureight6\\n\n",
      "997                   crjgvsjxcpgtx8one\\n\n",
      "998                 nvfive8hvdth6fgnfgh\\n\n",
      "999                           8hl5eight\\n\n",
      "\n",
      "[1000 rows x 1 columns]\n"
     ]
    }
   ],
   "source": [
    "# make dataframe\n",
    "import pandas as pd\n",
    "df = pd.DataFrame(input, columns =['input'])\n",
    "print(df)"
   ]
  },
  {
   "cell_type": "code",
   "execution_count": 190,
   "metadata": {},
   "outputs": [
    {
     "name": "stdout",
     "output_type": "stream",
     "text": [
      "                                    input all_numbers first_number  \\\n",
      "0                        2qlljdqcbeight\\n           2            2   \n",
      "1                       eight47srvbfive\\n          47            4   \n",
      "2             slconeightfoureight557m38\\n       55738            5   \n",
      "3    xvqeightwosixnine61eightsn2tdczfhx\\n         612            6   \n",
      "4             msixonexch1twokjbdlhchqk1\\n          11            1   \n",
      "..                                    ...         ...          ...   \n",
      "995                        qqqnnkq7five\\n           7            7   \n",
      "996                          foureight6\\n           6            6   \n",
      "997                   crjgvsjxcpgtx8one\\n           8            8   \n",
      "998                 nvfive8hvdth6fgnfgh\\n          86            8   \n",
      "999                           8hl5eight\\n          85            8   \n",
      "\n",
      "    second_number calibration_value  \n",
      "0               2                22  \n",
      "1               7                47  \n",
      "2               8                58  \n",
      "3               2                62  \n",
      "4               1                11  \n",
      "..            ...               ...  \n",
      "995             7                77  \n",
      "996             6                66  \n",
      "997             8                88  \n",
      "998             6                86  \n",
      "999             5                85  \n",
      "\n",
      "[1000 rows x 5 columns]\n"
     ]
    }
   ],
   "source": [
    "# extract first and last number of each input value and paste together\n",
    "df[\"all_numbers\"] = df[\"input\"].str.extractall(r'(\\d)').unstack().fillna('').sum(axis=1) # type: ignore\n",
    "df[\"first_number\"] = df[\"all_numbers\"].str[0]\n",
    "df[\"second_number\"] = df[\"all_numbers\"].str[-1]\n",
    "df[\"calibration_value\"] = (df[\"first_number\"] + df[\"second_number\"])\n",
    "print(df)"
   ]
  },
  {
   "cell_type": "code",
   "execution_count": 62,
   "metadata": {},
   "outputs": [
    {
     "data": {
      "text/plain": [
       "input                object\n",
       "all_numbers          object\n",
       "first_number         object\n",
       "second_number        object\n",
       "calibration_value     int32\n",
       "dtype: object"
      ]
     },
     "execution_count": 62,
     "metadata": {},
     "output_type": "execute_result"
    }
   ],
   "source": [
    "# change datatype to int\n",
    "df = df.astype({'calibration_value': 'int32'})\n",
    "df.dtypes"
   ]
  },
  {
   "cell_type": "code",
   "execution_count": 63,
   "metadata": {},
   "outputs": [
    {
     "data": {
      "text/plain": [
       "54990"
      ]
     },
     "execution_count": 63,
     "metadata": {},
     "output_type": "execute_result"
    }
   ],
   "source": [
    "# sum up the calibration values\n",
    "df[\"calibration_value\"].sum()"
   ]
  },
  {
   "cell_type": "markdown",
   "metadata": {},
   "source": [
    "# Puzzle 2"
   ]
  },
  {
   "cell_type": "code",
   "execution_count": 165,
   "metadata": {},
   "outputs": [
    {
     "name": "stdout",
     "output_type": "stream",
     "text": [
      "                                    input      extract_all_numbers\n",
      "0                        2qlljdqcbeight\\n                   2eight\n",
      "1                       eight47srvbfive\\n              eight47five\n",
      "2             slconeightfoureight557m38\\n   oneeightfoureight55738\n",
      "3    xvqeightwosixnine61eightsn2tdczfhx\\n  eighttwosixnine61eight2\n",
      "4             msixonexch1twokjbdlhchqk1\\n              sixone1two1\n",
      "..                                    ...                      ...\n",
      "995                        qqqnnkq7five\\n                    7five\n",
      "996                          foureight6\\n               foureight6\n",
      "997                   crjgvsjxcpgtx8one\\n                     8one\n",
      "998                 nvfive8hvdth6fgnfgh\\n                   five86\n",
      "999                           8hl5eight\\n                  85eight\n",
      "\n",
      "[1000 rows x 2 columns]\n"
     ]
    }
   ],
   "source": [
    "# first, extract all occurances of numbers (digits or words), including overlapping\n",
    "df2 = pd.DataFrame(input, columns =['input'])\n",
    "df2[\"extract_all_numbers\"] = df2[\"input\"].str.extractall(r'(?=(\\d|zero|one|two|three|four|five|six|seven|eight|nine))').unstack().fillna('').sum(axis=1) # type: ignore\n",
    "print(df2)"
   ]
  },
  {
   "cell_type": "code",
   "execution_count": 166,
   "metadata": {},
   "outputs": [
    {
     "data": {
      "text/plain": [
       "'gg46sfw65gh9'"
      ]
     },
     "execution_count": 166,
     "metadata": {},
     "output_type": "execute_result"
    }
   ],
   "source": [
    "# function to replace all word-numbers to digits\n",
    "words_to_numbers = {\n",
    "        'one': '1',\n",
    "        'two': '2',\n",
    "        'three': '3',\n",
    "        'four': '4',\n",
    "        'five': '5',\n",
    "        'six': '6',\n",
    "        'seven': '7',\n",
    "        'eight': '8',\n",
    "        'nine': '9',\n",
    "        'zero': '0'\n",
    "    }\n",
    "\n",
    "def replace_all(string, dic):\n",
    "    for i, j in dic.items():\n",
    "        string = string.replace(i, j)\n",
    "    return string\n",
    "\n",
    "#test\n",
    "ssss = \"ggfour6sfwsix5ghnine\"\n",
    "replace_all(ssss, words_to_numbers)"
   ]
  },
  {
   "cell_type": "code",
   "execution_count": 167,
   "metadata": {},
   "outputs": [
    {
     "name": "stdout",
     "output_type": "stream",
     "text": [
      "                                    input      extract_all_numbers  \\\n",
      "0                        2qlljdqcbeight\\n                   2eight   \n",
      "1                       eight47srvbfive\\n              eight47five   \n",
      "2             slconeightfoureight557m38\\n   oneeightfoureight55738   \n",
      "3    xvqeightwosixnine61eightsn2tdczfhx\\n  eighttwosixnine61eight2   \n",
      "4             msixonexch1twokjbdlhchqk1\\n              sixone1two1   \n",
      "..                                    ...                      ...   \n",
      "995                        qqqnnkq7five\\n                    7five   \n",
      "996                          foureight6\\n               foureight6   \n",
      "997                   crjgvsjxcpgtx8one\\n                     8one   \n",
      "998                 nvfive8hvdth6fgnfgh\\n                   five86   \n",
      "999                           8hl5eight\\n                  85eight   \n",
      "\n",
      "    convert_to_digits  \n",
      "0                  28  \n",
      "1                8475  \n",
      "2           184855738  \n",
      "3            82696182  \n",
      "4               61121  \n",
      "..                ...  \n",
      "995                75  \n",
      "996               486  \n",
      "997                81  \n",
      "998               586  \n",
      "999               858  \n",
      "\n",
      "[1000 rows x 3 columns]\n"
     ]
    }
   ],
   "source": [
    "# replace all word-numbers to digits\n",
    "df2[\"convert_to_digits\"] = df2[\"extract_all_numbers\"].apply(lambda x: replace_all(x, words_to_numbers))\n",
    "print(df2)"
   ]
  },
  {
   "cell_type": "code",
   "execution_count": 168,
   "metadata": {},
   "outputs": [
    {
     "name": "stdout",
     "output_type": "stream",
     "text": [
      "                                    input      extract_all_numbers  \\\n",
      "0                        2qlljdqcbeight\\n                   2eight   \n",
      "1                       eight47srvbfive\\n              eight47five   \n",
      "2             slconeightfoureight557m38\\n   oneeightfoureight55738   \n",
      "3    xvqeightwosixnine61eightsn2tdczfhx\\n  eighttwosixnine61eight2   \n",
      "4             msixonexch1twokjbdlhchqk1\\n              sixone1two1   \n",
      "..                                    ...                      ...   \n",
      "995                        qqqnnkq7five\\n                    7five   \n",
      "996                          foureight6\\n               foureight6   \n",
      "997                   crjgvsjxcpgtx8one\\n                     8one   \n",
      "998                 nvfive8hvdth6fgnfgh\\n                   five86   \n",
      "999                           8hl5eight\\n                  85eight   \n",
      "\n",
      "    convert_to_digits first_digit second_digit calibration_value  \n",
      "0                  28           2            8                28  \n",
      "1                8475           8            5                85  \n",
      "2           184855738           1            8                18  \n",
      "3            82696182           8            2                82  \n",
      "4               61121           6            1                61  \n",
      "..                ...         ...          ...               ...  \n",
      "995                75           7            5                75  \n",
      "996               486           4            6                46  \n",
      "997                81           8            1                81  \n",
      "998               586           5            6                56  \n",
      "999               858           8            8                88  \n",
      "\n",
      "[1000 rows x 6 columns]\n"
     ]
    }
   ],
   "source": [
    "# extract first and last number and add together\n",
    "df2[\"first_digit\"] = df2[\"convert_to_digits\"].str[0]\n",
    "df2[\"second_digit\"] = df2[\"convert_to_digits\"].str[-1]\n",
    "df2[\"calibration_value\"] = (df2[\"first_digit\"] + df2[\"second_digit\"])\n",
    "print(df2)"
   ]
  },
  {
   "cell_type": "code",
   "execution_count": 169,
   "metadata": {},
   "outputs": [
    {
     "data": {
      "text/plain": [
       "input                  object\n",
       "extract_all_numbers    object\n",
       "convert_to_digits      object\n",
       "first_digit            object\n",
       "second_digit           object\n",
       "calibration_value       int32\n",
       "dtype: object"
      ]
     },
     "execution_count": 169,
     "metadata": {},
     "output_type": "execute_result"
    }
   ],
   "source": [
    "# change datatype to int\n",
    "df2 = df2.astype({'calibration_value': 'int32'})\n",
    "df2.dtypes"
   ]
  },
  {
   "cell_type": "code",
   "execution_count": 170,
   "metadata": {},
   "outputs": [
    {
     "data": {
      "text/plain": [
       "54473"
      ]
     },
     "execution_count": 170,
     "metadata": {},
     "output_type": "execute_result"
    }
   ],
   "source": [
    "# sum up the calibration values\n",
    "df2[\"calibration_value\"].sum()"
   ]
  }
 ],
 "metadata": {
  "kernelspec": {
   "display_name": "Python 3",
   "language": "python",
   "name": "python3"
  },
  "language_info": {
   "codemirror_mode": {
    "name": "ipython",
    "version": 3
   },
   "file_extension": ".py",
   "mimetype": "text/x-python",
   "name": "python",
   "nbconvert_exporter": "python",
   "pygments_lexer": "ipython3",
   "version": "3.11.5"
  }
 },
 "nbformat": 4,
 "nbformat_minor": 2
}
