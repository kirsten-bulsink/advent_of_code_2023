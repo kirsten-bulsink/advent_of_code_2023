{
 "cells": [
  {
   "cell_type": "markdown",
   "metadata": {},
   "source": [
    "# Puzzles day 1"
   ]
  },
  {
   "cell_type": "code",
   "execution_count": 8,
   "metadata": {},
   "outputs": [
    {
     "name": "stdout",
     "output_type": "stream",
     "text": [
      "['2qlljdqcbeight\\n', 'eight47srvbfive\\n', 'slconeightfoureight557m38\\n']\n"
     ]
    }
   ],
   "source": [
    "# read in the file\n",
    "file = open(\"puzzle_input/puzzle_1.txt\")\n",
    "input = file.readlines()\n",
    "print(input[0:3])"
   ]
  },
  {
   "cell_type": "markdown",
   "metadata": {},
   "source": [
    "# Puzzle 1"
   ]
  },
  {
   "cell_type": "code",
   "execution_count": 9,
   "metadata": {},
   "outputs": [
    {
     "name": "stdout",
     "output_type": "stream",
     "text": [
      "                                  input\n",
      "0                      2qlljdqcbeight\\n\n",
      "1                     eight47srvbfive\\n\n",
      "2           slconeightfoureight557m38\\n\n",
      "3  xvqeightwosixnine61eightsn2tdczfhx\\n\n",
      "4           msixonexch1twokjbdlhchqk1\\n\n"
     ]
    }
   ],
   "source": [
    "# make dataframe\n",
    "import pandas as pd\n",
    "df = pd.DataFrame(input, columns =['input'])\n",
    "print(df.head())"
   ]
  },
  {
   "cell_type": "code",
   "execution_count": 10,
   "metadata": {},
   "outputs": [
    {
     "name": "stdout",
     "output_type": "stream",
     "text": [
      "                                  input all_numbers first_number  \\\n",
      "0                      2qlljdqcbeight\\n           2            2   \n",
      "1                     eight47srvbfive\\n          47            4   \n",
      "2           slconeightfoureight557m38\\n       55738            5   \n",
      "3  xvqeightwosixnine61eightsn2tdczfhx\\n         612            6   \n",
      "4           msixonexch1twokjbdlhchqk1\\n          11            1   \n",
      "\n",
      "  second_number calibration_value  \n",
      "0             2                22  \n",
      "1             7                47  \n",
      "2             8                58  \n",
      "3             2                62  \n",
      "4             1                11  \n"
     ]
    }
   ],
   "source": [
    "# extract first and last number of each input value and paste together\n",
    "df[\"all_numbers\"] = df[\"input\"].str.extractall(r'(\\d)').unstack().fillna('').sum(axis=1) # type: ignore\n",
    "df[\"first_number\"] = df[\"all_numbers\"].str[0]\n",
    "df[\"second_number\"] = df[\"all_numbers\"].str[-1]\n",
    "df[\"calibration_value\"] = (df[\"first_number\"] + df[\"second_number\"])\n",
    "print(df.head())"
   ]
  },
  {
   "cell_type": "code",
   "execution_count": 11,
   "metadata": {},
   "outputs": [
    {
     "data": {
      "text/plain": [
       "input                object\n",
       "all_numbers          object\n",
       "first_number         object\n",
       "second_number        object\n",
       "calibration_value     int32\n",
       "dtype: object"
      ]
     },
     "execution_count": 11,
     "metadata": {},
     "output_type": "execute_result"
    }
   ],
   "source": [
    "# change datatype to int\n",
    "df = df.astype({'calibration_value': 'int32'})\n",
    "df.dtypes"
   ]
  },
  {
   "cell_type": "code",
   "execution_count": 12,
   "metadata": {},
   "outputs": [
    {
     "data": {
      "text/plain": [
       "54990"
      ]
     },
     "execution_count": 12,
     "metadata": {},
     "output_type": "execute_result"
    }
   ],
   "source": [
    "# sum up the calibration values\n",
    "df[\"calibration_value\"].sum()"
   ]
  },
  {
   "cell_type": "markdown",
   "metadata": {},
   "source": [
    "# Puzzle 2"
   ]
  },
  {
   "cell_type": "code",
   "execution_count": 13,
   "metadata": {},
   "outputs": [
    {
     "name": "stdout",
     "output_type": "stream",
     "text": [
      "                                  input      extract_all_numbers\n",
      "0                      2qlljdqcbeight\\n                   2eight\n",
      "1                     eight47srvbfive\\n              eight47five\n",
      "2           slconeightfoureight557m38\\n   oneeightfoureight55738\n",
      "3  xvqeightwosixnine61eightsn2tdczfhx\\n  eighttwosixnine61eight2\n",
      "4           msixonexch1twokjbdlhchqk1\\n              sixone1two1\n"
     ]
    }
   ],
   "source": [
    "# first, extract all occurances of numbers (digits or words), including overlapping\n",
    "df2 = pd.DataFrame(input, columns =['input'])\n",
    "df2[\"extract_all_numbers\"] = df2[\"input\"].str.extractall(r'(?=(\\d|zero|one|two|three|four|five|six|seven|eight|nine))').unstack().fillna('').sum(axis=1) # type: ignore\n",
    "print(df2.head())"
   ]
  },
  {
   "cell_type": "code",
   "execution_count": 14,
   "metadata": {},
   "outputs": [
    {
     "data": {
      "text/plain": [
       "'gg46sfw65gh9'"
      ]
     },
     "execution_count": 14,
     "metadata": {},
     "output_type": "execute_result"
    }
   ],
   "source": [
    "# function to replace all word-numbers to digits\n",
    "words_to_numbers = {\n",
    "        'one': '1',\n",
    "        'two': '2',\n",
    "        'three': '3',\n",
    "        'four': '4',\n",
    "        'five': '5',\n",
    "        'six': '6',\n",
    "        'seven': '7',\n",
    "        'eight': '8',\n",
    "        'nine': '9',\n",
    "        'zero': '0'\n",
    "    }\n",
    "\n",
    "def replace_all(string, dic):\n",
    "    for i, j in dic.items():\n",
    "        string = string.replace(i, j)\n",
    "    return string\n",
    "\n",
    "#test\n",
    "ssss = \"ggfour6sfwsix5ghnine\"\n",
    "replace_all(ssss, words_to_numbers)"
   ]
  },
  {
   "cell_type": "code",
   "execution_count": 15,
   "metadata": {},
   "outputs": [
    {
     "name": "stdout",
     "output_type": "stream",
     "text": [
      "                                  input      extract_all_numbers  \\\n",
      "0                      2qlljdqcbeight\\n                   2eight   \n",
      "1                     eight47srvbfive\\n              eight47five   \n",
      "2           slconeightfoureight557m38\\n   oneeightfoureight55738   \n",
      "3  xvqeightwosixnine61eightsn2tdczfhx\\n  eighttwosixnine61eight2   \n",
      "4           msixonexch1twokjbdlhchqk1\\n              sixone1two1   \n",
      "\n",
      "  convert_to_digits  \n",
      "0                28  \n",
      "1              8475  \n",
      "2         184855738  \n",
      "3          82696182  \n",
      "4             61121  \n"
     ]
    }
   ],
   "source": [
    "# replace all word-numbers to digits\n",
    "df2[\"convert_to_digits\"] = df2[\"extract_all_numbers\"].apply(lambda x: replace_all(x, words_to_numbers))\n",
    "print(df2.head())"
   ]
  },
  {
   "cell_type": "code",
   "execution_count": 16,
   "metadata": {},
   "outputs": [
    {
     "name": "stdout",
     "output_type": "stream",
     "text": [
      "                                  input      extract_all_numbers  \\\n",
      "0                      2qlljdqcbeight\\n                   2eight   \n",
      "1                     eight47srvbfive\\n              eight47five   \n",
      "2           slconeightfoureight557m38\\n   oneeightfoureight55738   \n",
      "3  xvqeightwosixnine61eightsn2tdczfhx\\n  eighttwosixnine61eight2   \n",
      "4           msixonexch1twokjbdlhchqk1\\n              sixone1two1   \n",
      "\n",
      "  convert_to_digits first_digit second_digit calibration_value  \n",
      "0                28           2            8                28  \n",
      "1              8475           8            5                85  \n",
      "2         184855738           1            8                18  \n",
      "3          82696182           8            2                82  \n",
      "4             61121           6            1                61  \n"
     ]
    }
   ],
   "source": [
    "# extract first and last number and add together\n",
    "df2[\"first_digit\"] = df2[\"convert_to_digits\"].str[0]\n",
    "df2[\"second_digit\"] = df2[\"convert_to_digits\"].str[-1]\n",
    "df2[\"calibration_value\"] = (df2[\"first_digit\"] + df2[\"second_digit\"])\n",
    "print(df2.head())"
   ]
  },
  {
   "cell_type": "code",
   "execution_count": 17,
   "metadata": {},
   "outputs": [
    {
     "data": {
      "text/plain": [
       "input                  object\n",
       "extract_all_numbers    object\n",
       "convert_to_digits      object\n",
       "first_digit            object\n",
       "second_digit           object\n",
       "calibration_value       int32\n",
       "dtype: object"
      ]
     },
     "execution_count": 17,
     "metadata": {},
     "output_type": "execute_result"
    }
   ],
   "source": [
    "# change datatype to int\n",
    "df2 = df2.astype({'calibration_value': 'int32'})\n",
    "df2.dtypes"
   ]
  },
  {
   "cell_type": "code",
   "execution_count": 18,
   "metadata": {},
   "outputs": [
    {
     "data": {
      "text/plain": [
       "54473"
      ]
     },
     "execution_count": 18,
     "metadata": {},
     "output_type": "execute_result"
    }
   ],
   "source": [
    "# sum up the calibration values\n",
    "df2[\"calibration_value\"].sum()"
   ]
  }
 ],
 "metadata": {
  "kernelspec": {
   "display_name": "Python 3",
   "language": "python",
   "name": "python3"
  },
  "language_info": {
   "codemirror_mode": {
    "name": "ipython",
    "version": 3
   },
   "file_extension": ".py",
   "mimetype": "text/x-python",
   "name": "python",
   "nbconvert_exporter": "python",
   "pygments_lexer": "ipython3",
   "version": "3.11.5"
  }
 },
 "nbformat": 4,
 "nbformat_minor": 2
}
