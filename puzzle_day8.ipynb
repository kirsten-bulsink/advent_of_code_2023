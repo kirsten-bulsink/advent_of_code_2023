{
 "cells": [
  {
   "cell_type": "code",
   "execution_count": null,
   "metadata": {},
   "outputs": [],
   "source": [
    "# read the file\n",
    "file = open(\"puzzle_input/puzzle_8.txt\")\n",
    "input = file.read().split(\"\\n\\n\")\n",
    "print(input[0])"
   ]
  },
  {
   "cell_type": "code",
   "execution_count": null,
   "metadata": {},
   "outputs": [],
   "source": [
    "# extract directions from input\n",
    "directions = input[0]\n",
    "directions[0:3]"
   ]
  },
  {
   "cell_type": "code",
   "execution_count": null,
   "metadata": {},
   "outputs": [],
   "source": [
    "# extract network from input\n",
    "network = input[1].splitlines()\n",
    "network[0:3]"
   ]
  },
  {
   "cell_type": "code",
   "execution_count": null,
   "metadata": {},
   "outputs": [],
   "source": [
    "# create dictionary with node names in key and L and R nodes in value (tuple)\n",
    "dict_network = {}\n",
    "import re\n",
    "for i in network:\n",
    "    node = re.findall(r'[A-Z]+', i)\n",
    "    name, l, r = node\n",
    "    dict_network.update({name: (l,r)}) \n",
    "\n",
    "dict_network[0:3]"
   ]
  },
  {
   "cell_type": "code",
   "execution_count": null,
   "metadata": {},
   "outputs": [],
   "source": [
    "# start with 0 steps\n",
    "steps = 0\n",
    "# start at node AAA\n",
    "node_name = 'AAA'\n",
    "# ZZZ is not found yet...\n",
    "found_it = False\n",
    "\n",
    "# loop over the directions until ZZZ is found\n",
    "while(not found_it):\n",
    "    print(\"first node: \", node_name)\n",
    "    for d in directions:\n",
    "        print(d)\n",
    "        l, r = dict_network[node_name]\n",
    "        if d == 'L':\n",
    "            node_name = l\n",
    "        else:\n",
    "            node_name = r\n",
    "        print(\"node: \", node_name)\n",
    "        steps += 1\n",
    "        print(\"steps: \", steps)\n",
    "\n",
    "    if node_name == \"ZZZ\":\n",
    "        found_it = True\n",
    "        print(\"i found ZZZ!\")\n",
    "\n",
    "print(f\"i took {steps} steps to get there!\")"
   ]
  }
 ],
 "metadata": {
  "kernelspec": {
   "display_name": "Python 3",
   "language": "python",
   "name": "python3"
  },
  "language_info": {
   "codemirror_mode": {
    "name": "ipython",
    "version": 3
   },
   "file_extension": ".py",
   "mimetype": "text/x-python",
   "name": "python",
   "nbconvert_exporter": "python",
   "pygments_lexer": "ipython3",
   "version": "3.11.5"
  }
 },
 "nbformat": 4,
 "nbformat_minor": 2
}
