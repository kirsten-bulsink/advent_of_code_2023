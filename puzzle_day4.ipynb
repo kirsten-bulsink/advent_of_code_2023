{
 "cells": [
  {
   "cell_type": "code",
   "execution_count": 4,
   "metadata": {},
   "outputs": [
    {
     "name": "stdout",
     "output_type": "stream",
     "text": [
      "['Card   1:  9 39 27 89 87 29 54 19 43 45 |  9 80 29 20 54 58 78 77 39 35 76 79 19 87 45 89 23 31 94 34 67 43 56 50 27', 'Card   2: 89 59 76  2 60 83 21 37 92 45 | 79  5 41 92 45 59 72 50 89 37 64 65 60 54 57 22 66 21 25 76  1 39 83  2 33', 'Card   3: 40 25 13 65 86  5 35 87  9 30 | 87 76 30 93  5 45 16 40 48 89 78 59 18 12 71 85 66 21 80 28 50 60 49 72 27']\n"
     ]
    }
   ],
   "source": [
    "# read the file\n",
    "file = open(\"puzzle_input/puzzle_4.txt\")\n",
    "input = file.read().splitlines()\n",
    "print(input[0:3])"
   ]
  },
  {
   "cell_type": "code",
   "execution_count": 5,
   "metadata": {},
   "outputs": [
    {
     "data": {
      "text/plain": [
       "[['9', '39', '27', '89', '87', '29', '54', '19', '43', '45'],\n",
       " ['89', '59', '76', '2', '60', '83', '21', '37', '92', '45'],\n",
       " ['40', '25', '13', '65', '86', '5', '35', '87', '9', '30']]"
      ]
     },
     "execution_count": 5,
     "metadata": {},
     "output_type": "execute_result"
    }
   ],
   "source": [
    "# extract the winning_numbers and play_numbers of each card\n",
    "import re\n",
    "winning_numbers = []\n",
    "play_numbers = []\n",
    "for line in input:\n",
    "    group_win = re.findall(r'(?<=[\\:])(.*)(?=[\\|])', line)\n",
    "    numbers_win = re.findall(r'(\\d+)', str(group_win))\n",
    "    winning_numbers.append(numbers_win)\n",
    "    group_play = re.findall(r'(?<=[\\|])(.*)', line)\n",
    "    numbers_play = re.findall(r'(\\d+)', str(group_play))\n",
    "    play_numbers.append(numbers_play)\n",
    "\n",
    "winning_numbers[0:3]"
   ]
  },
  {
   "cell_type": "code",
   "execution_count": 6,
   "metadata": {},
   "outputs": [
    {
     "data": {
      "text/plain": [
       "[10, 10, 4]"
      ]
     },
     "execution_count": 6,
     "metadata": {},
     "output_type": "execute_result"
    }
   ],
   "source": [
    "# compare each play_number to all winning_numbers and determine matches\n",
    "match_list = []\n",
    "for (card_play, card_win) in zip(play_numbers, winning_numbers):\n",
    "    matches = []\n",
    "    for num in card_play:\n",
    "        match = num in card_win\n",
    "        matches.append(match)\n",
    "    sum_matches = sum(matches)\n",
    "    match_list.append(sum_matches)\n",
    "match_list[0:3]"
   ]
  },
  {
   "cell_type": "code",
   "execution_count": 7,
   "metadata": {},
   "outputs": [
    {
     "data": {
      "text/plain": [
       "[512, 512, 8]"
      ]
     },
     "execution_count": 7,
     "metadata": {},
     "output_type": "execute_result"
    }
   ],
   "source": [
    "# calculate points worth\n",
    "points = []\n",
    "for i in match_list:\n",
    "    point = 0 if(i == 0) else pow(2, i-1)\n",
    "    points.append(point)\n",
    "points[0:3]"
   ]
  },
  {
   "cell_type": "code",
   "execution_count": 8,
   "metadata": {},
   "outputs": [
    {
     "data": {
      "text/plain": [
       "27059"
      ]
     },
     "execution_count": 8,
     "metadata": {},
     "output_type": "execute_result"
    }
   ],
   "source": [
    "sum(points)"
   ]
  },
  {
   "cell_type": "markdown",
   "metadata": {},
   "source": [
    "# Puzzle 2"
   ]
  },
  {
   "cell_type": "code",
   "execution_count": 9,
   "metadata": {},
   "outputs": [],
   "source": [
    "# # sets\n",
    "# a = set(play_numbers[2]) \n",
    "# b = set(winning_numbers[2])\n",
    "# c = b.intersection(a)\n",
    "# print(a)\n",
    "# print(b)\n",
    "# print(c)"
   ]
  },
  {
   "cell_type": "code",
   "execution_count": null,
   "metadata": {},
   "outputs": [],
   "source": []
  }
 ],
 "metadata": {
  "kernelspec": {
   "display_name": "Python 3",
   "language": "python",
   "name": "python3"
  },
  "language_info": {
   "codemirror_mode": {
    "name": "ipython",
    "version": 3
   },
   "file_extension": ".py",
   "mimetype": "text/x-python",
   "name": "python",
   "nbconvert_exporter": "python",
   "pygments_lexer": "ipython3",
   "version": "3.11.5"
  }
 },
 "nbformat": 4,
 "nbformat_minor": 2
}
