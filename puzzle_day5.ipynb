{
 "cells": [
  {
   "cell_type": "code",
   "execution_count": 8,
   "metadata": {},
   "outputs": [
    {
     "name": "stdout",
     "output_type": "stream",
     "text": [
      "['seeds: 4239267129 20461805 2775736218 52390530 3109225152 741325372 1633502651 46906638 967445712 47092469 2354891449 237152885 2169258488 111184803 2614747853 123738802 620098496 291114156 2072253071 28111202', '', 'seed-to-soil map:', '803774611 641364296 1132421037', '248421506 1797371961 494535345']\n"
     ]
    }
   ],
   "source": [
    "file = open(\"puzzle_input/puzzle_5.txt\")\n",
    "input = file.read()\n",
    "print(input.splitlines()[0:5])"
   ]
  },
  {
   "cell_type": "code",
   "execution_count": 2,
   "metadata": {},
   "outputs": [
    {
     "data": {
      "text/plain": [
       "[4239267129, 20461805, 2775736218]"
      ]
     },
     "execution_count": 2,
     "metadata": {},
     "output_type": "execute_result"
    }
   ],
   "source": [
    "# extract seeds\n",
    "import re\n",
    "input_split = input.split(\"\\n\\n\")\n",
    "seeds = re.findall(r'\\d+', input_split[0])\n",
    "seeds = [int(seed) for seed in seeds]\n",
    "seeds[0:3]"
   ]
  },
  {
   "cell_type": "code",
   "execution_count": 3,
   "metadata": {},
   "outputs": [],
   "source": [
    "# fun to extract the mappings as nested list\n",
    "def extract_mapping(line):\n",
    "    line = line.splitlines()\n",
    "    map = []\n",
    "    for i in line[1:]:\n",
    "        nums = i.split(\" \")\n",
    "        nums = [int(num) for num in nums]\n",
    "        map.append(nums)\n",
    "    return map"
   ]
  },
  {
   "cell_type": "code",
   "execution_count": 4,
   "metadata": {},
   "outputs": [
    {
     "data": {
      "text/plain": [
       "[[803774611, 641364296, 1132421037],\n",
       " [248421506, 1797371961, 494535345],\n",
       " [1936195648, 2752993203, 133687519]]"
      ]
     },
     "execution_count": 4,
     "metadata": {},
     "output_type": "execute_result"
    }
   ],
   "source": [
    "# extract mappings\n",
    "map_to_soil = extract_mapping(input_split[1])\n",
    "map_to_ferti = extract_mapping(input_split[2])\n",
    "map_to_water = extract_mapping(input_split[3])\n",
    "map_to_light = extract_mapping(input_split[4])\n",
    "map_to_temp = extract_mapping(input_split[5])\n",
    "map_to_humid = extract_mapping(input_split[6])\n",
    "map_to_location = extract_mapping(input_split[7])\n",
    "map_to_soil[0:3]"
   ]
  },
  {
   "cell_type": "code",
   "execution_count": 5,
   "metadata": {},
   "outputs": [],
   "source": [
    "# create function\n",
    "\n",
    "def almanac_converter(source_list, mappings):\n",
    "    # first determine the ranges and the difference in mapping for these ranges\n",
    "    ranges = []\n",
    "    difs = []\n",
    "    for map in mappings:\n",
    "        des,sou,len = map\n",
    "        r = range(sou, sou+len)\n",
    "        d = des - sou\n",
    "        ranges.append(r)\n",
    "        difs.append(d)\n",
    "\n",
    "    # now, determine matching destination\n",
    "    destination_list = []\n",
    "    for source in source_list:\n",
    "        dest = source\n",
    "        # check if source is in one of the ranges\n",
    "        for r,d in zip(ranges,difs):\n",
    "            if source in r:\n",
    "                # overwrite dest\n",
    "                dest = source + d\n",
    "\n",
    "        destination_list.append(dest)\n",
    "\n",
    "    return destination_list"
   ]
  },
  {
   "cell_type": "code",
   "execution_count": 6,
   "metadata": {},
   "outputs": [
    {
     "name": "stdout",
     "output_type": "stream",
     "text": [
      "[4239267129, 20461805, 2775736218]\n",
      "[2748445110, 20461805, 1958938663]\n",
      "[4267447784, 172942240, 1582797831]\n",
      "[4184911400, 426295404, 1288162149]\n",
      "[3617396505, 1805505971, 2027760354]\n",
      "[968002045, 1615443275, 2771231260]\n",
      "[38536046, 1615443275, 3046369324]\n",
      "[896125601, 3746629648, 3932126948]\n"
     ]
    }
   ],
   "source": [
    "print(seeds[0:3])\n",
    "soils = almanac_converter(seeds, map_to_soil)\n",
    "print(soils[0:3])\n",
    "fertilizers = almanac_converter(soils, map_to_ferti)\n",
    "print(fertilizers[0:3])\n",
    "water = almanac_converter(fertilizers, map_to_water)\n",
    "print(water[0:3])\n",
    "light = almanac_converter(water, map_to_light)\n",
    "print(light[0:3])\n",
    "temp = almanac_converter(light, map_to_temp)\n",
    "print(temp[0:3])\n",
    "humid = almanac_converter(temp, map_to_humid)\n",
    "print(humid[0:3])\n",
    "location = almanac_converter(humid, map_to_location)\n",
    "print(location[0:3])"
   ]
  },
  {
   "cell_type": "code",
   "execution_count": 7,
   "metadata": {},
   "outputs": [
    {
     "data": {
      "text/plain": [
       "389056265"
      ]
     },
     "execution_count": 7,
     "metadata": {},
     "output_type": "execute_result"
    }
   ],
   "source": [
    "# extract the lowest location\n",
    "min(location)"
   ]
  }
 ],
 "metadata": {
  "kernelspec": {
   "display_name": "Python 3",
   "language": "python",
   "name": "python3"
  },
  "language_info": {
   "codemirror_mode": {
    "name": "ipython",
    "version": 3
   },
   "file_extension": ".py",
   "mimetype": "text/x-python",
   "name": "python",
   "nbconvert_exporter": "python",
   "pygments_lexer": "ipython3",
   "version": "3.11.5"
  }
 },
 "nbformat": 4,
 "nbformat_minor": 2
}
