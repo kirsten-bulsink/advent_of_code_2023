{
 "cells": [
  {
   "cell_type": "code",
   "execution_count": 1,
   "metadata": {},
   "outputs": [],
   "source": [
    "# input\n",
    "race_1 = (49,298)\n",
    "race_2 = (78,1185)\n",
    "race_3 = (79,1066)\n",
    "race_4 = (80,1181)"
   ]
  },
  {
   "cell_type": "code",
   "execution_count": 2,
   "metadata": {},
   "outputs": [
    {
     "data": {
      "text/plain": [
       "34"
      ]
     },
     "execution_count": 2,
     "metadata": {},
     "output_type": "execute_result"
    }
   ],
   "source": [
    "time, record = race_1\n",
    "dist_per_option = []\n",
    "for hold in range(0,time):\n",
    "    dist = (time - hold) * hold # hold is equal to speed\n",
    "    dist_per_option.append(dist)\n",
    "\n",
    "ways_to_win_1 = sum([i - record > 0 for i in dist_per_option])\n",
    "ways_to_win_1"
   ]
  },
  {
   "cell_type": "code",
   "execution_count": 14,
   "metadata": {},
   "outputs": [
    {
     "data": {
      "text/plain": [
       "37"
      ]
     },
     "execution_count": 14,
     "metadata": {},
     "output_type": "execute_result"
    }
   ],
   "source": [
    "time, record = race_2\n",
    "dist_per_option = []\n",
    "for hold in range(0,time):\n",
    "    dist = (time - hold) * hold # hold is equal to speed\n",
    "    dist_per_option.append(dist)\n",
    "\n",
    "ways_to_win_2 = sum([i - record > 0 for i in dist_per_option])\n",
    "ways_to_win_2"
   ]
  },
  {
   "cell_type": "code",
   "execution_count": 15,
   "metadata": {},
   "outputs": [
    {
     "data": {
      "text/plain": [
       "44"
      ]
     },
     "execution_count": 15,
     "metadata": {},
     "output_type": "execute_result"
    }
   ],
   "source": [
    "time, record = race_3\n",
    "dist_per_option = []\n",
    "for hold in range(0,time):\n",
    "    dist = (time - hold) * hold # hold is equal to speed\n",
    "    dist_per_option.append(dist)\n",
    "\n",
    "ways_to_win_3 = sum([i - record > 0 for i in dist_per_option])\n",
    "ways_to_win_3"
   ]
  },
  {
   "cell_type": "code",
   "execution_count": 16,
   "metadata": {},
   "outputs": [
    {
     "data": {
      "text/plain": [
       "41"
      ]
     },
     "execution_count": 16,
     "metadata": {},
     "output_type": "execute_result"
    }
   ],
   "source": [
    "time, record = race_4\n",
    "dist_per_option = []\n",
    "for hold in range(0,time):\n",
    "    dist = (time - hold) * hold # hold is equal to speed\n",
    "    dist_per_option.append(dist)\n",
    "\n",
    "ways_to_win_4 = sum([i - record > 0 for i in dist_per_option])\n",
    "ways_to_win_4"
   ]
  },
  {
   "cell_type": "code",
   "execution_count": 18,
   "metadata": {},
   "outputs": [
    {
     "data": {
      "text/plain": [
       "2269432"
      ]
     },
     "execution_count": 18,
     "metadata": {},
     "output_type": "execute_result"
    }
   ],
   "source": [
    "ways_to_win_1 * ways_to_win_2 * ways_to_win_3 * ways_to_win_4"
   ]
  },
  {
   "cell_type": "markdown",
   "metadata": {},
   "source": [
    "# Puzzle 2"
   ]
  },
  {
   "cell_type": "code",
   "execution_count": 3,
   "metadata": {},
   "outputs": [],
   "source": [
    "race_tot = (49787980, 298118510661181)"
   ]
  },
  {
   "cell_type": "code",
   "execution_count": 4,
   "metadata": {},
   "outputs": [
    {
     "data": {
      "text/plain": [
       "35865985"
      ]
     },
     "execution_count": 4,
     "metadata": {},
     "output_type": "execute_result"
    }
   ],
   "source": [
    "time, record = race_tot\n",
    "dist_per_option = []\n",
    "for hold in range(14,time):\n",
    "    dist = (time - hold) * hold # hold is equal to speed\n",
    "    dist_per_option.append(dist)\n",
    "\n",
    "ways_to_win_tot = sum([i - record > 0 for i in dist_per_option])\n",
    "ways_to_win_tot"
   ]
  }
 ],
 "metadata": {
  "kernelspec": {
   "display_name": "Python 3",
   "language": "python",
   "name": "python3"
  },
  "language_info": {
   "codemirror_mode": {
    "name": "ipython",
    "version": 3
   },
   "file_extension": ".py",
   "mimetype": "text/x-python",
   "name": "python",
   "nbconvert_exporter": "python",
   "pygments_lexer": "ipython3",
   "version": "3.11.5"
  }
 },
 "nbformat": 4,
 "nbformat_minor": 2
}
